{
 "cells": [
  {
   "cell_type": "code",
   "execution_count": 31,
   "id": "5e0bfa49",
   "metadata": {},
   "outputs": [],
   "source": [
    "import pandas as pd\n",
    "import numpy as np"
   ]
  },
  {
   "cell_type": "markdown",
   "id": "dcc152c1",
   "metadata": {},
   "source": [
    "# ÉTAPE 1 : Chargement et exploration initiale des données"
   ]
  },
  {
   "cell_type": "markdown",
   "id": "0aeffb3b",
   "metadata": {},
   "source": [
    "### 1. Chargement du dataset"
   ]
  },
  {
   "cell_type": "code",
   "execution_count": 58,
   "id": "20c79e97",
   "metadata": {},
   "outputs": [],
   "source": [
    "df = pd.read_csv(\n",
    "    r\"C:\\Users\\BOUQALLABA-TOUMMINI\\Desktop\\Projects DU Data Analytics\\projet Data Manag\\data.csv\",\n",
    "    encoding='ISO-8859-1')"
   ]
  },
  {
   "cell_type": "markdown",
   "id": "74466662",
   "metadata": {},
   "source": [
    "### 2. Aperçu des premières lignes"
   ]
  },
  {
   "cell_type": "code",
   "execution_count": 33,
   "id": "052c8d67",
   "metadata": {},
   "outputs": [
    {
     "data": {
      "text/html": [
       "<div>\n",
       "<style scoped>\n",
       "    .dataframe tbody tr th:only-of-type {\n",
       "        vertical-align: middle;\n",
       "    }\n",
       "\n",
       "    .dataframe tbody tr th {\n",
       "        vertical-align: top;\n",
       "    }\n",
       "\n",
       "    .dataframe thead th {\n",
       "        text-align: right;\n",
       "    }\n",
       "</style>\n",
       "<table border=\"1\" class=\"dataframe\">\n",
       "  <thead>\n",
       "    <tr style=\"text-align: right;\">\n",
       "      <th></th>\n",
       "      <th>InvoiceNo</th>\n",
       "      <th>StockCode</th>\n",
       "      <th>Description</th>\n",
       "      <th>Quantity</th>\n",
       "      <th>InvoiceDate</th>\n",
       "      <th>UnitPrice</th>\n",
       "      <th>CustomerID</th>\n",
       "      <th>Country</th>\n",
       "    </tr>\n",
       "  </thead>\n",
       "  <tbody>\n",
       "    <tr>\n",
       "      <th>0</th>\n",
       "      <td>536365</td>\n",
       "      <td>85123A</td>\n",
       "      <td>WHITE HANGING HEART T-LIGHT HOLDER</td>\n",
       "      <td>6</td>\n",
       "      <td>12/1/2010 8:26</td>\n",
       "      <td>2.55</td>\n",
       "      <td>17850.0</td>\n",
       "      <td>United Kingdom</td>\n",
       "    </tr>\n",
       "    <tr>\n",
       "      <th>1</th>\n",
       "      <td>536365</td>\n",
       "      <td>71053</td>\n",
       "      <td>WHITE METAL LANTERN</td>\n",
       "      <td>6</td>\n",
       "      <td>12/1/2010 8:26</td>\n",
       "      <td>3.39</td>\n",
       "      <td>17850.0</td>\n",
       "      <td>United Kingdom</td>\n",
       "    </tr>\n",
       "    <tr>\n",
       "      <th>2</th>\n",
       "      <td>536365</td>\n",
       "      <td>84406B</td>\n",
       "      <td>CREAM CUPID HEARTS COAT HANGER</td>\n",
       "      <td>8</td>\n",
       "      <td>12/1/2010 8:26</td>\n",
       "      <td>2.75</td>\n",
       "      <td>17850.0</td>\n",
       "      <td>United Kingdom</td>\n",
       "    </tr>\n",
       "    <tr>\n",
       "      <th>3</th>\n",
       "      <td>536365</td>\n",
       "      <td>84029G</td>\n",
       "      <td>KNITTED UNION FLAG HOT WATER BOTTLE</td>\n",
       "      <td>6</td>\n",
       "      <td>12/1/2010 8:26</td>\n",
       "      <td>3.39</td>\n",
       "      <td>17850.0</td>\n",
       "      <td>United Kingdom</td>\n",
       "    </tr>\n",
       "    <tr>\n",
       "      <th>4</th>\n",
       "      <td>536365</td>\n",
       "      <td>84029E</td>\n",
       "      <td>RED WOOLLY HOTTIE WHITE HEART.</td>\n",
       "      <td>6</td>\n",
       "      <td>12/1/2010 8:26</td>\n",
       "      <td>3.39</td>\n",
       "      <td>17850.0</td>\n",
       "      <td>United Kingdom</td>\n",
       "    </tr>\n",
       "  </tbody>\n",
       "</table>\n",
       "</div>"
      ],
      "text/plain": [
       "  InvoiceNo StockCode                          Description  Quantity  \\\n",
       "0    536365    85123A   WHITE HANGING HEART T-LIGHT HOLDER         6   \n",
       "1    536365     71053                  WHITE METAL LANTERN         6   \n",
       "2    536365    84406B       CREAM CUPID HEARTS COAT HANGER         8   \n",
       "3    536365    84029G  KNITTED UNION FLAG HOT WATER BOTTLE         6   \n",
       "4    536365    84029E       RED WOOLLY HOTTIE WHITE HEART.         6   \n",
       "\n",
       "      InvoiceDate  UnitPrice  CustomerID         Country  \n",
       "0  12/1/2010 8:26       2.55     17850.0  United Kingdom  \n",
       "1  12/1/2010 8:26       3.39     17850.0  United Kingdom  \n",
       "2  12/1/2010 8:26       2.75     17850.0  United Kingdom  \n",
       "3  12/1/2010 8:26       3.39     17850.0  United Kingdom  \n",
       "4  12/1/2010 8:26       3.39     17850.0  United Kingdom  "
      ]
     },
     "execution_count": 33,
     "metadata": {},
     "output_type": "execute_result"
    }
   ],
   "source": [
    "df.head(5)"
   ]
  },
  {
   "cell_type": "markdown",
   "id": "644a9c98",
   "metadata": {},
   "source": [
    "### 3. Dimensions du dataset (lignes, colonnes)"
   ]
  },
  {
   "cell_type": "code",
   "execution_count": 34,
   "id": "22355e8f",
   "metadata": {},
   "outputs": [
    {
     "data": {
      "text/plain": [
       "(541909, 8)"
      ]
     },
     "execution_count": 34,
     "metadata": {},
     "output_type": "execute_result"
    }
   ],
   "source": [
    "df.shape"
   ]
  },
  {
   "cell_type": "markdown",
   "id": "ee0c98d4",
   "metadata": {},
   "source": [
    "Cela signifie que notre jeu de données contient 541 909 entrées individuelles, chacune décrite par 8 caractéristiques différentes (comme InvoiceNo, StockCode, Quantity, etc.)."
   ]
  },
  {
   "cell_type": "markdown",
   "id": "669e1847",
   "metadata": {},
   "source": [
    "### 4. Informations sur les types de données"
   ]
  },
  {
   "cell_type": "code",
   "execution_count": 35,
   "id": "9bdb8cb2",
   "metadata": {},
   "outputs": [
    {
     "name": "stdout",
     "output_type": "stream",
     "text": [
      "<class 'pandas.core.frame.DataFrame'>\n",
      "RangeIndex: 541909 entries, 0 to 541908\n",
      "Data columns (total 8 columns):\n",
      " #   Column       Non-Null Count   Dtype  \n",
      "---  ------       --------------   -----  \n",
      " 0   InvoiceNo    541909 non-null  object \n",
      " 1   StockCode    541909 non-null  object \n",
      " 2   Description  540455 non-null  object \n",
      " 3   Quantity     541909 non-null  int64  \n",
      " 4   InvoiceDate  541909 non-null  object \n",
      " 5   UnitPrice    541909 non-null  float64\n",
      " 6   CustomerID   406829 non-null  float64\n",
      " 7   Country      541909 non-null  object \n",
      "dtypes: float64(2), int64(1), object(5)\n",
      "memory usage: 33.1+ MB\n"
     ]
    }
   ],
   "source": [
    "df.info()"
   ]
  },
  {
   "cell_type": "markdown",
   "id": "7970e2f4",
   "metadata": {},
   "source": [
    " Description et CustomerID contiennent des valeurs manquantes à traiter.\n",
    "\n",
    "La colonne InvoiceDate est de type object, il faudra la convertir en datetime pour les analyses temporelles.\n",
    "\n",
    "Le jeu de données occupe environ 33.1 Mo en mémoire."
   ]
  },
  {
   "cell_type": "markdown",
   "id": "d460d7cd",
   "metadata": {},
   "source": [
    "### 5. Résumé statistique des colonnes numériques"
   ]
  },
  {
   "cell_type": "code",
   "execution_count": 36,
   "id": "8719fa18",
   "metadata": {},
   "outputs": [
    {
     "data": {
      "text/html": [
       "<div>\n",
       "<style scoped>\n",
       "    .dataframe tbody tr th:only-of-type {\n",
       "        vertical-align: middle;\n",
       "    }\n",
       "\n",
       "    .dataframe tbody tr th {\n",
       "        vertical-align: top;\n",
       "    }\n",
       "\n",
       "    .dataframe thead th {\n",
       "        text-align: right;\n",
       "    }\n",
       "</style>\n",
       "<table border=\"1\" class=\"dataframe\">\n",
       "  <thead>\n",
       "    <tr style=\"text-align: right;\">\n",
       "      <th></th>\n",
       "      <th>Quantity</th>\n",
       "      <th>UnitPrice</th>\n",
       "      <th>CustomerID</th>\n",
       "    </tr>\n",
       "  </thead>\n",
       "  <tbody>\n",
       "    <tr>\n",
       "      <th>count</th>\n",
       "      <td>541909.000000</td>\n",
       "      <td>541909.000000</td>\n",
       "      <td>406829.000000</td>\n",
       "    </tr>\n",
       "    <tr>\n",
       "      <th>mean</th>\n",
       "      <td>9.552250</td>\n",
       "      <td>4.611114</td>\n",
       "      <td>15287.690570</td>\n",
       "    </tr>\n",
       "    <tr>\n",
       "      <th>std</th>\n",
       "      <td>218.081158</td>\n",
       "      <td>96.759853</td>\n",
       "      <td>1713.600303</td>\n",
       "    </tr>\n",
       "    <tr>\n",
       "      <th>min</th>\n",
       "      <td>-80995.000000</td>\n",
       "      <td>-11062.060000</td>\n",
       "      <td>12346.000000</td>\n",
       "    </tr>\n",
       "    <tr>\n",
       "      <th>25%</th>\n",
       "      <td>1.000000</td>\n",
       "      <td>1.250000</td>\n",
       "      <td>13953.000000</td>\n",
       "    </tr>\n",
       "    <tr>\n",
       "      <th>50%</th>\n",
       "      <td>3.000000</td>\n",
       "      <td>2.080000</td>\n",
       "      <td>15152.000000</td>\n",
       "    </tr>\n",
       "    <tr>\n",
       "      <th>75%</th>\n",
       "      <td>10.000000</td>\n",
       "      <td>4.130000</td>\n",
       "      <td>16791.000000</td>\n",
       "    </tr>\n",
       "    <tr>\n",
       "      <th>max</th>\n",
       "      <td>80995.000000</td>\n",
       "      <td>38970.000000</td>\n",
       "      <td>18287.000000</td>\n",
       "    </tr>\n",
       "  </tbody>\n",
       "</table>\n",
       "</div>"
      ],
      "text/plain": [
       "            Quantity      UnitPrice     CustomerID\n",
       "count  541909.000000  541909.000000  406829.000000\n",
       "mean        9.552250       4.611114   15287.690570\n",
       "std       218.081158      96.759853    1713.600303\n",
       "min    -80995.000000  -11062.060000   12346.000000\n",
       "25%         1.000000       1.250000   13953.000000\n",
       "50%         3.000000       2.080000   15152.000000\n",
       "75%        10.000000       4.130000   16791.000000\n",
       "max     80995.000000   38970.000000   18287.000000"
      ]
     },
     "execution_count": 36,
     "metadata": {},
     "output_type": "execute_result"
    }
   ],
   "source": [
    "df.describe()"
   ]
  },
  {
   "cell_type": "markdown",
   "id": "ce662d4a",
   "metadata": {},
   "source": [
    "Des valeurs aberrantes sont présentes dans Quantity et UnitPrice → à nettoyer.\n",
    "\n",
    "CustomerID a de nombreuses valeurs manquantes, à traiter selon l’analyse souhaitée.\n",
    "\n",
    "Il est important de filtrer ou corriger les valeurs extrêmes avant toute modélisation ou visualisation.\n",
    "\n"
   ]
  },
  {
   "cell_type": "markdown",
   "id": "656b6e0b",
   "metadata": {},
   "source": [
    "### 6. Typologie des colonnes"
   ]
  },
  {
   "cell_type": "code",
   "execution_count": 37,
   "id": "d5dd52fd",
   "metadata": {},
   "outputs": [
    {
     "name": "stdout",
     "output_type": "stream",
     "text": [
      "Types de colonnes :\n",
      " InvoiceNo       object\n",
      "StockCode       object\n",
      "Description     object\n",
      "Quantity         int64\n",
      "InvoiceDate     object\n",
      "UnitPrice      float64\n",
      "CustomerID     float64\n",
      "Country         object\n",
      "dtype: object\n"
     ]
    }
   ],
   "source": [
    "print(\"Types de colonnes :\\n\", df.dtypes)"
   ]
  },
  {
   "cell_type": "markdown",
   "id": "0e43de8f",
   "metadata": {},
   "source": [
    "### 7. Vérification des valeurs manquantes"
   ]
  },
  {
   "cell_type": "code",
   "execution_count": 38,
   "id": "847c0fd7",
   "metadata": {},
   "outputs": [
    {
     "data": {
      "text/plain": [
       "InvoiceNo           0\n",
       "StockCode           0\n",
       "Description      1454\n",
       "Quantity            0\n",
       "InvoiceDate         0\n",
       "UnitPrice           0\n",
       "CustomerID     135080\n",
       "Country             0\n",
       "dtype: int64"
      ]
     },
     "execution_count": 38,
     "metadata": {},
     "output_type": "execute_result"
    }
   ],
   "source": [
    "# Total des valeurs manquantes par colonne\n",
    "df.isnull().sum()"
   ]
  },
  {
   "cell_type": "markdown",
   "id": "03c73abf",
   "metadata": {},
   "source": [
    " Interprétation :\n",
    "✅ La plupart des colonnes n'ont pas de valeurs manquantes, ce qui est très bon pour l’analyse.\n",
    "\n",
    "⚠️ La colonne Description a 1 454 lignes manquantes, ce qui représente moins de 0.3 % du dataset → on peut envisager de supprimer ces lignes.\n",
    "\n",
    "⚠️ La colonne CustomerID a 135 080 valeurs manquantes, soit environ 25 % du dataset :\n",
    "\n",
    "Il faut décider : les supprimer, les remplacer (ex : par une valeur fictive), ou les garder si on n’analyse pas le client."
   ]
  },
  {
   "cell_type": "code",
   "execution_count": 39,
   "id": "06e05ba2",
   "metadata": {},
   "outputs": [
    {
     "data": {
      "text/plain": [
       "InvoiceNo       0.000000\n",
       "StockCode       0.000000\n",
       "Description     0.268311\n",
       "Quantity        0.000000\n",
       "InvoiceDate     0.000000\n",
       "UnitPrice       0.000000\n",
       "CustomerID     24.926694\n",
       "Country         0.000000\n",
       "dtype: float64"
      ]
     },
     "execution_count": 39,
     "metadata": {},
     "output_type": "execute_result"
    }
   ],
   "source": [
    "# Pourcentage de valeurs manquantes\n",
    "(df.isnull().sum() / len(df)) * 100"
   ]
  },
  {
   "cell_type": "markdown",
   "id": "128c771b",
   "metadata": {},
   "source": [
    " Interprétation :\n",
    "✅ La majorité des colonnes ne contiennent aucune valeur manquante.\n",
    "\n",
    "⚠️ Description présente un faible taux de valeurs manquantes (0.27 %) → on peut supprimer ces lignes sans risque majeur pour l’analyse.\n",
    "\n",
    "⚠️ CustomerID présente près de 25 % de valeurs manquantes, ce qui est significatif :\n",
    "\n",
    "Si l’analyse repose sur le client, il faudra supprimer ou imputer.\n",
    "\n",
    "Sinon, on peut conserver ces lignes pour des analyses globales sur les ventes.\n",
    "\n"
   ]
  },
  {
   "cell_type": "code",
   "execution_count": 40,
   "id": "29eff7fe",
   "metadata": {},
   "outputs": [
    {
     "name": "stdout",
     "output_type": "stream",
     "text": [
      "Quantités négatives : 10624\n",
      "Prix unitaires négatifs ou nuls : 2517\n"
     ]
    }
   ],
   "source": [
    "#Afficher combien de valeurs négatives il y a\n",
    "print(\"Quantités négatives :\", (df['Quantity'] < 0).sum())\n",
    "print(\"Prix unitaires négatifs ou nuls :\", (df['UnitPrice'] <= 0).sum())"
   ]
  },
  {
   "cell_type": "markdown",
   "id": "9fe56b93",
   "metadata": {},
   "source": [
    "Que faire ?\n",
    "Pour les quantités négatives :\n",
    "\n",
    "Si tu veux étudier uniquement les ventes, tu peux supprimer ces lignes.\n",
    "\n",
    "Sinon, tu peux garder ces données et les analyser séparément comme retours.\n",
    "\n",
    "Pour les prix unitaires négatifs ou nuls :\n",
    "\n",
    "Les prix nuls peuvent être ignorés si ce sont des échantillons gratuits.\n",
    "\n",
    "Les prix négatifs sont souvent des erreurs, il vaut mieux les exclure ou les vérifier."
   ]
  },
  {
   "cell_type": "markdown",
   "id": "97c95e95",
   "metadata": {},
   "source": [
    "### 8. Détection des doublons"
   ]
  },
  {
   "cell_type": "code",
   "execution_count": 41,
   "id": "3034a47f",
   "metadata": {},
   "outputs": [
    {
     "data": {
      "text/plain": [
       "np.int64(5268)"
      ]
     },
     "execution_count": 41,
     "metadata": {},
     "output_type": "execute_result"
    }
   ],
   "source": [
    "# Nombre de doublons\n",
    "df.duplicated().sum()"
   ]
  },
  {
   "cell_type": "markdown",
   "id": "a6655b0c",
   "metadata": {},
   "source": [
    "🔁 Doublons dans le jeu de données\n",
    "La commande df.duplicated().sum() indique que 5 268 lignes du dataset sont des doublons exacts.\n",
    "\n",
    "👉 Cela signifie que ces lignes sont strictement identiques à d'autres lignes (même facture, même produit, etc.).\n",
    "\n",
    "💡 Ces doublons doivent généralement être supprimés pour éviter de fausser les analyses (ventes, clients, produits…).\n",
    "\n"
   ]
  },
  {
   "cell_type": "markdown",
   "id": "20a56619",
   "metadata": {},
   "source": [
    "### 9.Analyse des variables catégorielles"
   ]
  },
  {
   "cell_type": "code",
   "execution_count": 42,
   "id": "a6fbfaf5",
   "metadata": {},
   "outputs": [
    {
     "data": {
      "text/plain": [
       "Index(['InvoiceNo', 'StockCode', 'Description', 'InvoiceDate', 'Country'], dtype='object')"
      ]
     },
     "execution_count": 42,
     "metadata": {},
     "output_type": "execute_result"
    }
   ],
   "source": [
    "### Liste des colonnes de type objet (souvent catégorielles)\n",
    "df.select_dtypes(include='object').columns"
   ]
  },
  {
   "cell_type": "markdown",
   "id": "91ade184",
   "metadata": {},
   "source": [
    "cela permet d’identifier les colonnes dont le type est object, c'est-à-dire souvent :\n",
    "\n",
    "des chaînes de caractères (str)\n",
    "\n",
    "ou des données non numériques (parfois mal typées)"
   ]
  },
  {
   "cell_type": "markdown",
   "id": "09c9f9d8",
   "metadata": {},
   "source": [
    "# Etape 2 : Nettoyage et préparation des données"
   ]
  },
  {
   "cell_type": "markdown",
   "id": "13157628",
   "metadata": {},
   "source": [
    "\n",
    "L'objectif de cette section est de nettoyer le jeu de données afin d'assurer la fiabilité de nos analyses. Nous allons :\n",
    "- Supprimer les lignes incohérentes (prix négatif, quantité nulle, etc.)\n",
    "- Éliminer les doublons\n",
    "- Gérer les valeurs manquantes\n",
    "- Convertir les types de données\n",
    "- Ajouter des colonnes utiles (ex. : montant total, date transformée)"
   ]
  },
  {
   "cell_type": "markdown",
   "id": "53462678",
   "metadata": {},
   "source": [
    "### 1. Suppression des lignes avec des valeurs incohérentes"
   ]
  },
  {
   "cell_type": "markdown",
   "id": "ca8bc164",
   "metadata": {},
   "source": [
    "\n",
    "Les quantités inférieures ou égales à zéro correspondent généralement à des retours, des erreurs de saisie ou des commandes annulées. Pour une analyse des ventes nettes, ces lignes ne sont pas conservées."
   ]
  },
  {
   "cell_type": "code",
   "execution_count": 59,
   "id": "e8bbfba8",
   "metadata": {},
   "outputs": [],
   "source": [
    "# Supprimer les lignes avec Quantity <= 0 (commandes annulées, retours, erreurs)\n",
    "#df = df[df['Quantity'] > 0]"
   ]
  },
  {
   "cell_type": "markdown",
   "id": "403f56a5",
   "metadata": {},
   "source": [
    "Un `UnitPrice` de 0 ou moins est une anomalie (produits offerts, erreurs, etc.). Ces lignes sont retirées pour ne pas biaiser le chiffre d'affaires."
   ]
  },
  {
   "cell_type": "code",
   "execution_count": 60,
   "id": "0cc835bc",
   "metadata": {},
   "outputs": [],
   "source": [
    "# Supprimer les lignes avec UnitPrice <= 0 (produits gratuits ou erreurs)\n",
    "df = df[df['UnitPrice'] > 0]"
   ]
  },
  {
   "cell_type": "markdown",
   "id": "a9a87f3e",
   "metadata": {},
   "source": [
    "### 2. Suppression des doublons"
   ]
  },
  {
   "cell_type": "markdown",
   "id": "fbec5e26",
   "metadata": {},
   "source": [
    "Les doublons exacts (mêmes valeurs sur toutes les colonnes) peuvent résulter d’une erreur d’export ou de saisie multiple. On les supprime pour éviter de fausser les analyses."
   ]
  },
  {
   "cell_type": "code",
   "execution_count": 45,
   "id": "1564dc2b",
   "metadata": {},
   "outputs": [],
   "source": [
    "df.drop_duplicates(inplace=True)"
   ]
  },
  {
   "cell_type": "code",
   "execution_count": 46,
   "id": "9bcb6e18",
   "metadata": {},
   "outputs": [
    {
     "name": "stdout",
     "output_type": "stream",
     "text": [
      "Nombre de doublons après suppression : 0\n"
     ]
    }
   ],
   "source": [
    "print(\"Nombre de doublons après suppression :\", df.duplicated().sum())"
   ]
  },
  {
   "cell_type": "markdown",
   "id": "221ae1ce",
   "metadata": {},
   "source": [
    " ### 3. Nettoyage des valeurs manquantes"
   ]
  },
  {
   "cell_type": "markdown",
   "id": "ede05317",
   "metadata": {},
   "source": [
    "Suppression des lignes sans `InvoiceDate`\n",
    "\n",
    "Les lignes sans date de facture (`InvoiceDate = NaT`) ne peuvent pas être utilisées dans les analyses temporelles (chiffre d’affaires par mois, tendances, etc.). Par conséquent, elles sont supprimées du dataset principal, mais conservées dans un fichier à part pour une éventuelle revue manuelle."
   ]
  },
  {
   "cell_type": "markdown",
   "id": "244909e5",
   "metadata": {},
   "source": [
    "- `InvoiceDate` est convertie en objet datetime pour permettre l'analyse temporelle."
   ]
  },
  {
   "cell_type": "code",
   "execution_count": 47,
   "id": "9743f5c6",
   "metadata": {},
   "outputs": [],
   "source": [
    "df = df[df['InvoiceDate'].notnull()]"
   ]
  },
  {
   "cell_type": "code",
   "execution_count": 61,
   "id": "8f1043eb",
   "metadata": {},
   "outputs": [
    {
     "data": {
      "text/plain": [
       "InvoiceNo           0\n",
       "StockCode           0\n",
       "Description         0\n",
       "Quantity            0\n",
       "InvoiceDate         0\n",
       "UnitPrice           0\n",
       "CustomerID     132603\n",
       "Country             0\n",
       "dtype: int64"
      ]
     },
     "execution_count": 61,
     "metadata": {},
     "output_type": "execute_result"
    }
   ],
   "source": [
    "df.isnull().sum()"
   ]
  },
  {
   "cell_type": "markdown",
   "id": "0f0400eb",
   "metadata": {},
   "source": [
    "### 4. Conversion des types de données (exemple : InvoiceDate)"
   ]
  },
  {
   "cell_type": "code",
   "execution_count": 49,
   "id": "62b7d268",
   "metadata": {},
   "outputs": [],
   "source": [
    "df['InvoiceDate'] = pd.to_datetime(df['InvoiceDate'], dayfirst=True, errors='coerce')"
   ]
  },
  {
   "cell_type": "code",
   "execution_count": 19,
   "id": "3130f9c8",
   "metadata": {},
   "outputs": [
    {
     "name": "stdout",
     "output_type": "stream",
     "text": [
      "Types de colonnes :\n",
      " InvoiceNo              object\n",
      "StockCode              object\n",
      "Description            object\n",
      "Quantity                int64\n",
      "InvoiceDate    datetime64[ns]\n",
      "UnitPrice             float64\n",
      "CustomerID            float64\n",
      "Country                object\n",
      "dtype: object\n"
     ]
    }
   ],
   "source": [
    "print(\"Types de colonnes :\\n\", df.dtypes)"
   ]
  },
  {
   "cell_type": "markdown",
   "id": "419c5a9b",
   "metadata": {},
   "source": [
    "### 5. gérer les lignes sans identifiant client (`CustomerID`)\n",
    "\n",
    "`CustomerID` est indispensable pour toutes les analyses client (segmentation, fidélité...). Les lignes sans identifiant sont supprimées."
   ]
  },
  {
   "cell_type": "markdown",
   "id": "4e1a3ca7",
   "metadata": {},
   "source": [
    "Nous avons choisi de conserver deux versions du dataset :\n",
    "- `df_all` : contient toutes les transactions, même anonymes. Cela permet d'analyser les ventes totales, produits et volumes.\n",
    "- `df_clients` : contient uniquement les lignes avec un identifiant client, afin d'explorer les comportements clients (RFM, rétention, etc.)."
   ]
  },
  {
   "cell_type": "code",
   "execution_count": 50,
   "id": "0f36a6fe",
   "metadata": {},
   "outputs": [],
   "source": [
    "df_all = df.copy()\n",
    "df_clients = df[df['CustomerID'].notnull()].copy()"
   ]
  },
  {
   "cell_type": "code",
   "execution_count": 51,
   "id": "fc786110",
   "metadata": {},
   "outputs": [
    {
     "data": {
      "text/plain": [
       "InvoiceNo           0\n",
       "StockCode           0\n",
       "Description         0\n",
       "Quantity            0\n",
       "InvoiceDate    299455\n",
       "UnitPrice           0\n",
       "CustomerID     132186\n",
       "Country             0\n",
       "dtype: int64"
      ]
     },
     "execution_count": 51,
     "metadata": {},
     "output_type": "execute_result"
    }
   ],
   "source": [
    "df_all.isnull().sum()"
   ]
  },
  {
   "cell_type": "code",
   "execution_count": 52,
   "id": "bc26b287",
   "metadata": {},
   "outputs": [
    {
     "data": {
      "text/plain": [
       "InvoiceNo           0\n",
       "StockCode           0\n",
       "Description         0\n",
       "Quantity            0\n",
       "InvoiceDate    226329\n",
       "UnitPrice           0\n",
       "CustomerID          0\n",
       "Country             0\n",
       "dtype: int64"
      ]
     },
     "execution_count": 52,
     "metadata": {},
     "output_type": "execute_result"
    }
   ],
   "source": [
    "df_clients.isnull().sum()"
   ]
  },
  {
   "cell_type": "markdown",
   "id": "a9a874dd",
   "metadata": {},
   "source": [
    "- `CustomerID` est converti en int aprés avoir supprimer les valeurs manquantes pour df_clients\n"
   ]
  },
  {
   "cell_type": "code",
   "execution_count": 53,
   "id": "189ec1a1",
   "metadata": {},
   "outputs": [],
   "source": [
    "df_clients['CustomerID'] = df_clients['CustomerID'].astype(int)"
   ]
  },
  {
   "cell_type": "code",
   "execution_count": 54,
   "id": "e3c85f17",
   "metadata": {},
   "outputs": [
    {
     "name": "stdout",
     "output_type": "stream",
     "text": [
      "Types de colonnes :\n",
      " InvoiceNo              object\n",
      "StockCode              object\n",
      "Description            object\n",
      "Quantity                int64\n",
      "InvoiceDate    datetime64[ns]\n",
      "UnitPrice             float64\n",
      "CustomerID              int64\n",
      "Country                object\n",
      "dtype: object\n"
     ]
    }
   ],
   "source": [
    "print(\"Types de colonnes :\\n\", df_clients.dtypes)"
   ]
  },
  {
   "cell_type": "markdown",
   "id": "5eba8c5e",
   "metadata": {},
   "source": [
    "# Etape 3 : Créaction des variables"
   ]
  },
  {
   "cell_type": "markdown",
   "id": "4439ac51",
   "metadata": {},
   "source": [
    "### Création de la variable `TotalPrice`\n",
    "\n",
    "Nous avons créé une variable **`TotalPrice`** afin de calculer le **montant total de chaque ligne de transaction**.\n",
    "\n",
    "Cette variable est obtenue en multipliant :\n",
    "- `Quantity` (le nombre d’unités commandées)\n",
    "- `UnitPrice` (le prix unitaire du produit)"
   ]
  },
  {
   "cell_type": "code",
   "execution_count": 66,
   "id": "f4fc5626",
   "metadata": {},
   "outputs": [],
   "source": [
    "# Création de la variable TotalPrice = quantité * prix unitaire\n",
    "df_all['TotalPrice'] = df_all['Quantity'] * df_all['UnitPrice']"
   ]
  },
  {
   "cell_type": "code",
   "execution_count": 57,
   "id": "12d900c1",
   "metadata": {},
   "outputs": [
    {
     "data": {
      "text/html": [
       "<div>\n",
       "<style scoped>\n",
       "    .dataframe tbody tr th:only-of-type {\n",
       "        vertical-align: middle;\n",
       "    }\n",
       "\n",
       "    .dataframe tbody tr th {\n",
       "        vertical-align: top;\n",
       "    }\n",
       "\n",
       "    .dataframe thead th {\n",
       "        text-align: right;\n",
       "    }\n",
       "</style>\n",
       "<table border=\"1\" class=\"dataframe\">\n",
       "  <thead>\n",
       "    <tr style=\"text-align: right;\">\n",
       "      <th></th>\n",
       "      <th>InvoiceNo</th>\n",
       "      <th>StockCode</th>\n",
       "      <th>Description</th>\n",
       "      <th>Quantity</th>\n",
       "      <th>InvoiceDate</th>\n",
       "      <th>UnitPrice</th>\n",
       "      <th>CustomerID</th>\n",
       "      <th>Country</th>\n",
       "      <th>TotalPrice</th>\n",
       "    </tr>\n",
       "  </thead>\n",
       "  <tbody>\n",
       "    <tr>\n",
       "      <th>0</th>\n",
       "      <td>536365</td>\n",
       "      <td>85123A</td>\n",
       "      <td>WHITE HANGING HEART T-LIGHT HOLDER</td>\n",
       "      <td>6</td>\n",
       "      <td>2010-01-12 08:26:00</td>\n",
       "      <td>2.55</td>\n",
       "      <td>17850.0</td>\n",
       "      <td>United Kingdom</td>\n",
       "      <td>15.30</td>\n",
       "    </tr>\n",
       "    <tr>\n",
       "      <th>1</th>\n",
       "      <td>536365</td>\n",
       "      <td>71053</td>\n",
       "      <td>WHITE METAL LANTERN</td>\n",
       "      <td>6</td>\n",
       "      <td>2010-01-12 08:26:00</td>\n",
       "      <td>3.39</td>\n",
       "      <td>17850.0</td>\n",
       "      <td>United Kingdom</td>\n",
       "      <td>20.34</td>\n",
       "    </tr>\n",
       "  </tbody>\n",
       "</table>\n",
       "</div>"
      ],
      "text/plain": [
       "  InvoiceNo StockCode                         Description  Quantity  \\\n",
       "0    536365    85123A  WHITE HANGING HEART T-LIGHT HOLDER         6   \n",
       "1    536365     71053                 WHITE METAL LANTERN         6   \n",
       "\n",
       "          InvoiceDate  UnitPrice  CustomerID         Country  TotalPrice  \n",
       "0 2010-01-12 08:26:00       2.55     17850.0  United Kingdom       15.30  \n",
       "1 2010-01-12 08:26:00       3.39     17850.0  United Kingdom       20.34  "
      ]
     },
     "execution_count": 57,
     "metadata": {},
     "output_type": "execute_result"
    }
   ],
   "source": [
    "df_all.head(2)"
   ]
  },
  {
   "cell_type": "markdown",
   "id": "7d6a520d",
   "metadata": {},
   "source": [
    "### Création des variables `IsReturn` et `IsCancelled`\n",
    "\n",
    "Pour mieux analyser la qualité de service et le comportement des clients, nous avons créé deux variables dérivées :\n",
    "\n",
    "- **`IsReturn`** : identifie si une ligne de transaction correspond à un retour produit.  \n",
    "  → Une quantité négative (`Quantity < 0`) indique généralement un retour, ce qui est fréquent dans les ventes en ligne.\n",
    "\n",
    "- **`IsCancelled`** : indique si la facture a été annulée.  \n",
    "  → Les numéros de facture annulés commencent par la lettre **\"C\"** dans le dataset (ex : \"C536379\"), selon la documentation du fournisseur de données.\n",
    "\n",
    "Ces deux variables permettent :\n",
    "- D’exclure facilement les retours si nécessaire (par exemple pour analyser uniquement les ventes réussies).\n",
    "- De mesurer le **taux de retour**, un indicateur clé de satisfaction et de qualité produit.\n",
    "- D'identifier les **produits les plus retournés ou annulés**, ce qui peut signaler des problèmes de qualité ou de logistique."
   ]
  },
  {
   "cell_type": "code",
   "execution_count": 64,
   "id": "2f5011cf",
   "metadata": {},
   "outputs": [],
   "source": [
    "# Création de la variable IsReturn : True si la quantité est négative\n",
    "df_all['IsReturn'] = df_all['Quantity'] < 0\n",
    "\n",
    "# Création de la variable IsCancelled : True si le numéro de facture commence par 'C'\n",
    "df_all['IsCancelled'] = df_all['InvoiceNo'].astype(str).str.startswith('C')"
   ]
  },
  {
   "cell_type": "code",
   "execution_count": 65,
   "id": "3f880099",
   "metadata": {},
   "outputs": [
    {
     "data": {
      "text/html": [
       "<div>\n",
       "<style scoped>\n",
       "    .dataframe tbody tr th:only-of-type {\n",
       "        vertical-align: middle;\n",
       "    }\n",
       "\n",
       "    .dataframe tbody tr th {\n",
       "        vertical-align: top;\n",
       "    }\n",
       "\n",
       "    .dataframe thead th {\n",
       "        text-align: right;\n",
       "    }\n",
       "</style>\n",
       "<table border=\"1\" class=\"dataframe\">\n",
       "  <thead>\n",
       "    <tr style=\"text-align: right;\">\n",
       "      <th></th>\n",
       "      <th>InvoiceNo</th>\n",
       "      <th>StockCode</th>\n",
       "      <th>Description</th>\n",
       "      <th>Quantity</th>\n",
       "      <th>InvoiceDate</th>\n",
       "      <th>UnitPrice</th>\n",
       "      <th>CustomerID</th>\n",
       "      <th>Country</th>\n",
       "      <th>TotalPrice</th>\n",
       "      <th>IsReturn</th>\n",
       "      <th>IsCancelled</th>\n",
       "    </tr>\n",
       "  </thead>\n",
       "  <tbody>\n",
       "    <tr>\n",
       "      <th>0</th>\n",
       "      <td>536365</td>\n",
       "      <td>85123A</td>\n",
       "      <td>WHITE HANGING HEART T-LIGHT HOLDER</td>\n",
       "      <td>6</td>\n",
       "      <td>2010-01-12 08:26:00</td>\n",
       "      <td>2.55</td>\n",
       "      <td>17850.0</td>\n",
       "      <td>United Kingdom</td>\n",
       "      <td>15.30</td>\n",
       "      <td>False</td>\n",
       "      <td>False</td>\n",
       "    </tr>\n",
       "    <tr>\n",
       "      <th>1</th>\n",
       "      <td>536365</td>\n",
       "      <td>71053</td>\n",
       "      <td>WHITE METAL LANTERN</td>\n",
       "      <td>6</td>\n",
       "      <td>2010-01-12 08:26:00</td>\n",
       "      <td>3.39</td>\n",
       "      <td>17850.0</td>\n",
       "      <td>United Kingdom</td>\n",
       "      <td>20.34</td>\n",
       "      <td>False</td>\n",
       "      <td>False</td>\n",
       "    </tr>\n",
       "    <tr>\n",
       "      <th>2</th>\n",
       "      <td>536365</td>\n",
       "      <td>84406B</td>\n",
       "      <td>CREAM CUPID HEARTS COAT HANGER</td>\n",
       "      <td>8</td>\n",
       "      <td>2010-01-12 08:26:00</td>\n",
       "      <td>2.75</td>\n",
       "      <td>17850.0</td>\n",
       "      <td>United Kingdom</td>\n",
       "      <td>22.00</td>\n",
       "      <td>False</td>\n",
       "      <td>False</td>\n",
       "    </tr>\n",
       "  </tbody>\n",
       "</table>\n",
       "</div>"
      ],
      "text/plain": [
       "  InvoiceNo StockCode                         Description  Quantity  \\\n",
       "0    536365    85123A  WHITE HANGING HEART T-LIGHT HOLDER         6   \n",
       "1    536365     71053                 WHITE METAL LANTERN         6   \n",
       "2    536365    84406B      CREAM CUPID HEARTS COAT HANGER         8   \n",
       "\n",
       "          InvoiceDate  UnitPrice  CustomerID         Country  TotalPrice  \\\n",
       "0 2010-01-12 08:26:00       2.55     17850.0  United Kingdom       15.30   \n",
       "1 2010-01-12 08:26:00       3.39     17850.0  United Kingdom       20.34   \n",
       "2 2010-01-12 08:26:00       2.75     17850.0  United Kingdom       22.00   \n",
       "\n",
       "   IsReturn  IsCancelled  \n",
       "0     False        False  \n",
       "1     False        False  \n",
       "2     False        False  "
      ]
     },
     "execution_count": 65,
     "metadata": {},
     "output_type": "execute_result"
    }
   ],
   "source": [
    "df_all.head(3)"
   ]
  }
 ],
 "metadata": {
  "kernelspec": {
   "display_name": "Python 3",
   "language": "python",
   "name": "python3"
  },
  "language_info": {
   "codemirror_mode": {
    "name": "ipython",
    "version": 3
   },
   "file_extension": ".py",
   "mimetype": "text/x-python",
   "name": "python",
   "nbconvert_exporter": "python",
   "pygments_lexer": "ipython3",
   "version": "3.13.3"
  }
 },
 "nbformat": 4,
 "nbformat_minor": 5
}
