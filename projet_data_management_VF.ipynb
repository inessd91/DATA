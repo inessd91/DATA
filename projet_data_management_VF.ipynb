{
 "cells": [
  {
   "cell_type": "code",
   "execution_count": 1,
   "id": "5e0bfa49",
   "metadata": {},
   "outputs": [],
   "source": [
    "import pandas as pd\n",
    "import numpy as np"
   ]
  },
  {
   "cell_type": "markdown",
   "id": "dcc152c1",
   "metadata": {},
   "source": [
    "# ÉTAPE 1 : Chargement et exploration initiale des données"
   ]
  },
  {
   "cell_type": "markdown",
   "id": "0aeffb3b",
   "metadata": {},
   "source": [
    "### 1. Chargement du dataset"
   ]
  },
  {
   "cell_type": "code",
   "execution_count": 46,
   "id": "20c79e97",
   "metadata": {},
   "outputs": [],
   "source": [
    "df = pd.read_csv('data.csv', encoding='ISO-8859-1')"
   ]
  },
  {
   "cell_type": "markdown",
   "id": "74466662",
   "metadata": {},
   "source": [
    "### 2. Aperçu des premières lignes"
   ]
  },
  {
   "cell_type": "code",
   "execution_count": 47,
   "id": "052c8d67",
   "metadata": {},
   "outputs": [
    {
     "data": {
      "text/html": [
       "<div>\n",
       "<style scoped>\n",
       "    .dataframe tbody tr th:only-of-type {\n",
       "        vertical-align: middle;\n",
       "    }\n",
       "\n",
       "    .dataframe tbody tr th {\n",
       "        vertical-align: top;\n",
       "    }\n",
       "\n",
       "    .dataframe thead th {\n",
       "        text-align: right;\n",
       "    }\n",
       "</style>\n",
       "<table border=\"1\" class=\"dataframe\">\n",
       "  <thead>\n",
       "    <tr style=\"text-align: right;\">\n",
       "      <th></th>\n",
       "      <th>InvoiceNo</th>\n",
       "      <th>StockCode</th>\n",
       "      <th>Description</th>\n",
       "      <th>Quantity</th>\n",
       "      <th>InvoiceDate</th>\n",
       "      <th>UnitPrice</th>\n",
       "      <th>CustomerID</th>\n",
       "      <th>Country</th>\n",
       "    </tr>\n",
       "  </thead>\n",
       "  <tbody>\n",
       "    <tr>\n",
       "      <th>0</th>\n",
       "      <td>536365</td>\n",
       "      <td>85123A</td>\n",
       "      <td>WHITE HANGING HEART T-LIGHT HOLDER</td>\n",
       "      <td>6</td>\n",
       "      <td>12/1/2010 8:26</td>\n",
       "      <td>2.55</td>\n",
       "      <td>17850.0</td>\n",
       "      <td>United Kingdom</td>\n",
       "    </tr>\n",
       "    <tr>\n",
       "      <th>1</th>\n",
       "      <td>536365</td>\n",
       "      <td>71053</td>\n",
       "      <td>WHITE METAL LANTERN</td>\n",
       "      <td>6</td>\n",
       "      <td>12/1/2010 8:26</td>\n",
       "      <td>3.39</td>\n",
       "      <td>17850.0</td>\n",
       "      <td>United Kingdom</td>\n",
       "    </tr>\n",
       "    <tr>\n",
       "      <th>2</th>\n",
       "      <td>536365</td>\n",
       "      <td>84406B</td>\n",
       "      <td>CREAM CUPID HEARTS COAT HANGER</td>\n",
       "      <td>8</td>\n",
       "      <td>12/1/2010 8:26</td>\n",
       "      <td>2.75</td>\n",
       "      <td>17850.0</td>\n",
       "      <td>United Kingdom</td>\n",
       "    </tr>\n",
       "    <tr>\n",
       "      <th>3</th>\n",
       "      <td>536365</td>\n",
       "      <td>84029G</td>\n",
       "      <td>KNITTED UNION FLAG HOT WATER BOTTLE</td>\n",
       "      <td>6</td>\n",
       "      <td>12/1/2010 8:26</td>\n",
       "      <td>3.39</td>\n",
       "      <td>17850.0</td>\n",
       "      <td>United Kingdom</td>\n",
       "    </tr>\n",
       "    <tr>\n",
       "      <th>4</th>\n",
       "      <td>536365</td>\n",
       "      <td>84029E</td>\n",
       "      <td>RED WOOLLY HOTTIE WHITE HEART.</td>\n",
       "      <td>6</td>\n",
       "      <td>12/1/2010 8:26</td>\n",
       "      <td>3.39</td>\n",
       "      <td>17850.0</td>\n",
       "      <td>United Kingdom</td>\n",
       "    </tr>\n",
       "  </tbody>\n",
       "</table>\n",
       "</div>"
      ],
      "text/plain": [
       "  InvoiceNo StockCode                          Description  Quantity  \\\n",
       "0    536365    85123A   WHITE HANGING HEART T-LIGHT HOLDER         6   \n",
       "1    536365     71053                  WHITE METAL LANTERN         6   \n",
       "2    536365    84406B       CREAM CUPID HEARTS COAT HANGER         8   \n",
       "3    536365    84029G  KNITTED UNION FLAG HOT WATER BOTTLE         6   \n",
       "4    536365    84029E       RED WOOLLY HOTTIE WHITE HEART.         6   \n",
       "\n",
       "      InvoiceDate  UnitPrice  CustomerID         Country  \n",
       "0  12/1/2010 8:26       2.55     17850.0  United Kingdom  \n",
       "1  12/1/2010 8:26       3.39     17850.0  United Kingdom  \n",
       "2  12/1/2010 8:26       2.75     17850.0  United Kingdom  \n",
       "3  12/1/2010 8:26       3.39     17850.0  United Kingdom  \n",
       "4  12/1/2010 8:26       3.39     17850.0  United Kingdom  "
      ]
     },
     "execution_count": 47,
     "metadata": {},
     "output_type": "execute_result"
    }
   ],
   "source": [
    "df.head(5)"
   ]
  },
  {
   "cell_type": "markdown",
   "id": "644a9c98",
   "metadata": {},
   "source": [
    "### 3. Dimensions du dataset (lignes, colonnes)"
   ]
  },
  {
   "cell_type": "code",
   "execution_count": 48,
   "id": "22355e8f",
   "metadata": {},
   "outputs": [
    {
     "data": {
      "text/plain": [
       "(541909, 8)"
      ]
     },
     "execution_count": 48,
     "metadata": {},
     "output_type": "execute_result"
    }
   ],
   "source": [
    "df.shape"
   ]
  },
  {
   "cell_type": "markdown",
   "id": "ee0c98d4",
   "metadata": {},
   "source": [
    "Cela signifie que notre jeu de données contient 541 909 entrées individuelles, chacune décrite par 8 caractéristiques différentes (comme InvoiceNo, StockCode, Quantity, etc.)."
   ]
  },
  {
   "cell_type": "markdown",
   "id": "669e1847",
   "metadata": {},
   "source": [
    "### 4. Informations sur les types de données"
   ]
  },
  {
   "cell_type": "code",
   "execution_count": 49,
   "id": "9bdb8cb2",
   "metadata": {},
   "outputs": [
    {
     "name": "stdout",
     "output_type": "stream",
     "text": [
      "<class 'pandas.core.frame.DataFrame'>\n",
      "RangeIndex: 541909 entries, 0 to 541908\n",
      "Data columns (total 8 columns):\n",
      " #   Column       Non-Null Count   Dtype  \n",
      "---  ------       --------------   -----  \n",
      " 0   InvoiceNo    541909 non-null  object \n",
      " 1   StockCode    541909 non-null  object \n",
      " 2   Description  540455 non-null  object \n",
      " 3   Quantity     541909 non-null  int64  \n",
      " 4   InvoiceDate  541909 non-null  object \n",
      " 5   UnitPrice    541909 non-null  float64\n",
      " 6   CustomerID   406829 non-null  float64\n",
      " 7   Country      541909 non-null  object \n",
      "dtypes: float64(2), int64(1), object(5)\n",
      "memory usage: 33.1+ MB\n"
     ]
    }
   ],
   "source": [
    "df.info()"
   ]
  },
  {
   "cell_type": "markdown",
   "id": "7970e2f4",
   "metadata": {},
   "source": [
    " Description et CustomerID contiennent des valeurs manquantes à traiter.\n",
    "\n",
    "La colonne InvoiceDate est de type object, il faudra la convertir en datetime pour les analyses temporelles.\n",
    "\n",
    "Le jeu de données occupe environ 33.1 Mo en mémoire."
   ]
  },
  {
   "cell_type": "markdown",
   "id": "d460d7cd",
   "metadata": {},
   "source": [
    "### 5. Résumé statistique des colonnes numériques"
   ]
  },
  {
   "cell_type": "code",
   "execution_count": 50,
   "id": "8719fa18",
   "metadata": {},
   "outputs": [
    {
     "data": {
      "text/html": [
       "<div>\n",
       "<style scoped>\n",
       "    .dataframe tbody tr th:only-of-type {\n",
       "        vertical-align: middle;\n",
       "    }\n",
       "\n",
       "    .dataframe tbody tr th {\n",
       "        vertical-align: top;\n",
       "    }\n",
       "\n",
       "    .dataframe thead th {\n",
       "        text-align: right;\n",
       "    }\n",
       "</style>\n",
       "<table border=\"1\" class=\"dataframe\">\n",
       "  <thead>\n",
       "    <tr style=\"text-align: right;\">\n",
       "      <th></th>\n",
       "      <th>Quantity</th>\n",
       "      <th>UnitPrice</th>\n",
       "      <th>CustomerID</th>\n",
       "    </tr>\n",
       "  </thead>\n",
       "  <tbody>\n",
       "    <tr>\n",
       "      <th>count</th>\n",
       "      <td>541909.000000</td>\n",
       "      <td>541909.000000</td>\n",
       "      <td>406829.000000</td>\n",
       "    </tr>\n",
       "    <tr>\n",
       "      <th>mean</th>\n",
       "      <td>9.552250</td>\n",
       "      <td>4.611114</td>\n",
       "      <td>15287.690570</td>\n",
       "    </tr>\n",
       "    <tr>\n",
       "      <th>std</th>\n",
       "      <td>218.081158</td>\n",
       "      <td>96.759853</td>\n",
       "      <td>1713.600303</td>\n",
       "    </tr>\n",
       "    <tr>\n",
       "      <th>min</th>\n",
       "      <td>-80995.000000</td>\n",
       "      <td>-11062.060000</td>\n",
       "      <td>12346.000000</td>\n",
       "    </tr>\n",
       "    <tr>\n",
       "      <th>25%</th>\n",
       "      <td>1.000000</td>\n",
       "      <td>1.250000</td>\n",
       "      <td>13953.000000</td>\n",
       "    </tr>\n",
       "    <tr>\n",
       "      <th>50%</th>\n",
       "      <td>3.000000</td>\n",
       "      <td>2.080000</td>\n",
       "      <td>15152.000000</td>\n",
       "    </tr>\n",
       "    <tr>\n",
       "      <th>75%</th>\n",
       "      <td>10.000000</td>\n",
       "      <td>4.130000</td>\n",
       "      <td>16791.000000</td>\n",
       "    </tr>\n",
       "    <tr>\n",
       "      <th>max</th>\n",
       "      <td>80995.000000</td>\n",
       "      <td>38970.000000</td>\n",
       "      <td>18287.000000</td>\n",
       "    </tr>\n",
       "  </tbody>\n",
       "</table>\n",
       "</div>"
      ],
      "text/plain": [
       "            Quantity      UnitPrice     CustomerID\n",
       "count  541909.000000  541909.000000  406829.000000\n",
       "mean        9.552250       4.611114   15287.690570\n",
       "std       218.081158      96.759853    1713.600303\n",
       "min    -80995.000000  -11062.060000   12346.000000\n",
       "25%         1.000000       1.250000   13953.000000\n",
       "50%         3.000000       2.080000   15152.000000\n",
       "75%        10.000000       4.130000   16791.000000\n",
       "max     80995.000000   38970.000000   18287.000000"
      ]
     },
     "execution_count": 50,
     "metadata": {},
     "output_type": "execute_result"
    }
   ],
   "source": [
    "df.describe()"
   ]
  },
  {
   "cell_type": "markdown",
   "id": "ce662d4a",
   "metadata": {},
   "source": [
    "Des valeurs aberrantes sont présentes dans Quantity et UnitPrice → à nettoyer.\n",
    "\n",
    "CustomerID a de nombreuses valeurs manquantes, à traiter selon l’analyse souhaitée.\n",
    "\n",
    "\n",
    "\n"
   ]
  },
  {
   "cell_type": "markdown",
   "id": "656b6e0b",
   "metadata": {},
   "source": [
    "### 6. Typologie des colonnes"
   ]
  },
  {
   "cell_type": "code",
   "execution_count": 51,
   "id": "d5dd52fd",
   "metadata": {},
   "outputs": [
    {
     "name": "stdout",
     "output_type": "stream",
     "text": [
      "Types de colonnes :\n",
      " InvoiceNo       object\n",
      "StockCode       object\n",
      "Description     object\n",
      "Quantity         int64\n",
      "InvoiceDate     object\n",
      "UnitPrice      float64\n",
      "CustomerID     float64\n",
      "Country         object\n",
      "dtype: object\n"
     ]
    }
   ],
   "source": [
    "print(\"Types de colonnes :\\n\", df.dtypes)"
   ]
  },
  {
   "cell_type": "markdown",
   "id": "0e43de8f",
   "metadata": {},
   "source": [
    "### 7. Vérification des valeurs manquantes"
   ]
  },
  {
   "cell_type": "code",
   "execution_count": 52,
   "id": "847c0fd7",
   "metadata": {},
   "outputs": [
    {
     "data": {
      "text/plain": [
       "InvoiceNo           0\n",
       "StockCode           0\n",
       "Description      1454\n",
       "Quantity            0\n",
       "InvoiceDate         0\n",
       "UnitPrice           0\n",
       "CustomerID     135080\n",
       "Country             0\n",
       "dtype: int64"
      ]
     },
     "execution_count": 52,
     "metadata": {},
     "output_type": "execute_result"
    }
   ],
   "source": [
    "# Total des valeurs manquantes par colonne\n",
    "df.isnull().sum()"
   ]
  },
  {
   "cell_type": "markdown",
   "id": "03c73abf",
   "metadata": {},
   "source": [
    " Interprétation :\n",
    "✅ La plupart des colonnes n'ont pas de valeurs manquantes, ce qui est très bon pour l’analyse.\n",
    "\n",
    "⚠️ La colonne Description a 1 454 lignes manquantes, ce qui représente moins de 0.3 % du dataset → on peut envisager de supprimer ces lignes.\n",
    "\n",
    "⚠️ La colonne CustomerID a 135 080 valeurs manquantes, soit environ 25 % du dataset :\n",
    "\n",
    "On va décider par la suite: les supprimer, les remplacer (ex : par une valeur fictive), ou les garder si on n’analyse pas le client."
   ]
  },
  {
   "cell_type": "code",
   "execution_count": 53,
   "id": "06e05ba2",
   "metadata": {},
   "outputs": [
    {
     "data": {
      "text/plain": [
       "InvoiceNo       0.000000\n",
       "StockCode       0.000000\n",
       "Description     0.268311\n",
       "Quantity        0.000000\n",
       "InvoiceDate     0.000000\n",
       "UnitPrice       0.000000\n",
       "CustomerID     24.926694\n",
       "Country         0.000000\n",
       "dtype: float64"
      ]
     },
     "execution_count": 53,
     "metadata": {},
     "output_type": "execute_result"
    }
   ],
   "source": [
    "# Pourcentage de valeurs manquantes\n",
    "(df.isnull().sum() / len(df)) * 100"
   ]
  },
  {
   "cell_type": "markdown",
   "id": "128c771b",
   "metadata": {},
   "source": [
    " Interprétation :\n",
    "✅ La majorité des colonnes ne contiennent aucune valeur manquante.\n",
    "\n",
    "⚠️ Description présente un faible taux de valeurs manquantes (0.27 %) → on peut supprimer ces lignes sans risque majeur pour l’analyse.\n",
    "\n",
    "⚠️ CustomerID présente près de 25 % de valeurs manquantes, ce qui est significatif :\n",
    "\n",
    "Si l’analyse repose sur le client, il faudra supprimer ou imputer.\n",
    "\n",
    "Sinon, on peut conserver ces lignes pour des analyses globales sur les ventes.\n",
    "\n"
   ]
  },
  {
   "cell_type": "code",
   "execution_count": 54,
   "id": "29eff7fe",
   "metadata": {},
   "outputs": [
    {
     "name": "stdout",
     "output_type": "stream",
     "text": [
      "Quantités négatives : 10624\n",
      "Prix unitaires négatifs ou nuls : 2517\n"
     ]
    }
   ],
   "source": [
    "#Afficher combien de valeurs négatives il y a\n",
    "print(\"Quantités négatives :\", (df['Quantity'] < 0).sum())\n",
    "print(\"Prix unitaires négatifs ou nuls :\", (df['UnitPrice'] <= 0).sum())"
   ]
  },
  {
   "cell_type": "markdown",
   "id": "9fe56b93",
   "metadata": {},
   "source": [
    "Que faire ?\n",
    "Pour les quantités négatives :\n",
    "\n",
    "Si tu veux étudier uniquement les ventes, tu peux supprimer ces lignes.\n",
    "\n",
    "Sinon, tu peux garder ces données et les analyser séparément comme retours.\n",
    "\n",
    "Pour les prix unitaires négatifs ou nuls :\n",
    "\n",
    "Les prix nuls peuvent être ignorés si ce sont des échantillons gratuits.\n",
    "\n",
    "Les prix négatifs sont souvent des erreurs, il vaut mieux les exclure ou les vérifier."
   ]
  },
  {
   "cell_type": "markdown",
   "id": "97c95e95",
   "metadata": {},
   "source": [
    "### 8. Détection des doublons"
   ]
  },
  {
   "cell_type": "code",
   "execution_count": 55,
   "id": "3034a47f",
   "metadata": {},
   "outputs": [
    {
     "data": {
      "text/plain": [
       "np.int64(5268)"
      ]
     },
     "execution_count": 55,
     "metadata": {},
     "output_type": "execute_result"
    }
   ],
   "source": [
    "# Nombre de doublons\n",
    "df.duplicated().sum()"
   ]
  },
  {
   "cell_type": "markdown",
   "id": "a6655b0c",
   "metadata": {},
   "source": [
    "🔁 Doublons dans le jeu de données\n",
    "La commande df.duplicated().sum() indique que 5 268 lignes du dataset sont des doublons exacts.\n",
    "\n",
    "👉 Cela signifie que ces lignes sont strictement identiques à d'autres lignes (même facture, même produit, etc.).\n",
    "\n",
    "💡 Ces doublons doivent généralement être supprimés pour éviter de fausser les analyses (ventes, clients, produits…).\n",
    "\n"
   ]
  },
  {
   "cell_type": "markdown",
   "id": "20a56619",
   "metadata": {},
   "source": [
    "### 9.Analyse des variables catégorielles"
   ]
  },
  {
   "cell_type": "code",
   "execution_count": 56,
   "id": "a6fbfaf5",
   "metadata": {},
   "outputs": [
    {
     "data": {
      "text/plain": [
       "Index(['InvoiceNo', 'StockCode', 'Description', 'InvoiceDate', 'Country'], dtype='object')"
      ]
     },
     "execution_count": 56,
     "metadata": {},
     "output_type": "execute_result"
    }
   ],
   "source": [
    "### Liste des colonnes de type objet (souvent catégorielles)\n",
    "df.select_dtypes(include='object').columns"
   ]
  },
  {
   "cell_type": "code",
   "execution_count": 57,
   "id": "46897b09",
   "metadata": {},
   "outputs": [
    {
     "data": {
      "text/plain": [
       "InvoiceNo           0\n",
       "StockCode           0\n",
       "Description      1454\n",
       "Quantity            0\n",
       "InvoiceDate         0\n",
       "UnitPrice           0\n",
       "CustomerID     135080\n",
       "Country             0\n",
       "dtype: int64"
      ]
     },
     "execution_count": 57,
     "metadata": {},
     "output_type": "execute_result"
    }
   ],
   "source": [
    "df.isnull().sum()"
   ]
  },
  {
   "cell_type": "markdown",
   "id": "91ade184",
   "metadata": {},
   "source": [
    "cela permet d’identifier les colonnes dont le type est object, c'est-à-dire souvent :\n",
    "\n",
    "des chaînes de caractères (str)\n",
    "\n",
    "ou des données non numériques (parfois mal typées)"
   ]
  },
  {
   "cell_type": "markdown",
   "id": "09c9f9d8",
   "metadata": {},
   "source": [
    "# Etape 2 : Nettoyage et préparation des données"
   ]
  },
  {
   "cell_type": "markdown",
   "id": "13157628",
   "metadata": {},
   "source": [
    "\n",
    "L'objectif de cette section est de nettoyer le jeu de données afin d'assurer la fiabilité de nos analyses. Nous allons :\n",
    "- Supprimer les lignes incohérentes (prix négatif, quantité nulle, etc.)\n",
    "- Éliminer les doublons\n",
    "- Gérer les valeurs manquantes\n",
    "- Convertir les types de données\n",
    "- Ajouter des colonnes utiles (ex. : montant total, date transformée)"
   ]
  },
  {
   "cell_type": "markdown",
   "id": "53462678",
   "metadata": {},
   "source": [
    "### 1. Suppression des lignes avec des valeurs incohérentes"
   ]
  },
  {
   "cell_type": "markdown",
   "id": "ca8bc164",
   "metadata": {},
   "source": [
    "\n",
    "Les quantités inférieures ou égales à zéro correspondent généralement à des retours, des erreurs de saisie ou des commandes annulées.  Ces lignes sont conservées pour analyser les retours et les annulations."
   ]
  },
  {
   "cell_type": "markdown",
   "id": "403f56a5",
   "metadata": {},
   "source": [
    "Un `UnitPrice` de 0 ou moins est une anomalie (produits offerts, erreurs, etc.). Ces lignes sont retirées pour ne pas biaiser le chiffre d'affaires."
   ]
  },
  {
   "cell_type": "code",
   "execution_count": 58,
   "id": "0cc835bc",
   "metadata": {},
   "outputs": [],
   "source": [
    "# Supprimer les lignes avec UnitPrice <= 0 (produits gratuits ou erreurs)\n",
    "df = df[df['UnitPrice'] > 0]"
   ]
  },
  {
   "cell_type": "code",
   "execution_count": 59,
   "id": "7fc83ea4",
   "metadata": {},
   "outputs": [
    {
     "data": {
      "text/plain": [
       "InvoiceNo           0\n",
       "StockCode           0\n",
       "Description         0\n",
       "Quantity            0\n",
       "InvoiceDate         0\n",
       "UnitPrice           0\n",
       "CustomerID     132603\n",
       "Country             0\n",
       "dtype: int64"
      ]
     },
     "execution_count": 59,
     "metadata": {},
     "output_type": "execute_result"
    }
   ],
   "source": [
    "df.isnull().sum()"
   ]
  },
  {
   "cell_type": "markdown",
   "id": "bdd925e2",
   "metadata": {},
   "source": [
    "\n",
    "\n",
    "-> Les valeurs manquantes dans la colonne `Description` ont disparu après l’application du filtre `df = df[df['UnitPrice'] > 0]` car la majorité des lignes avec `Description` manquante avaient aussi un `UnitPrice` inférieur ou égal à 0. Elles ont donc été supprimées indirectement lors du filtrage.\n"
   ]
  },
  {
   "cell_type": "markdown",
   "id": "a9a87f3e",
   "metadata": {},
   "source": [
    "### 2. Suppression des doublons"
   ]
  },
  {
   "cell_type": "markdown",
   "id": "fbec5e26",
   "metadata": {},
   "source": [
    "Les doublons exacts (mêmes valeurs sur toutes les colonnes) peuvent résulter d’une erreur d’export ou de saisie multiple. On les supprime pour éviter de fausser les analyses."
   ]
  },
  {
   "cell_type": "code",
   "execution_count": 15,
   "id": "1564dc2b",
   "metadata": {},
   "outputs": [],
   "source": [
    "df.drop_duplicates(inplace=True)"
   ]
  },
  {
   "cell_type": "code",
   "execution_count": 16,
   "id": "9bcb6e18",
   "metadata": {},
   "outputs": [
    {
     "name": "stdout",
     "output_type": "stream",
     "text": [
      "Nombre de doublons après suppression : 0\n"
     ]
    }
   ],
   "source": [
    "print(\"Nombre de doublons après suppression :\", df.duplicated().sum())"
   ]
  },
  {
   "cell_type": "markdown",
   "id": "221ae1ce",
   "metadata": {},
   "source": [
    " ### 3. Nettoyage des valeurs manquantes"
   ]
  },
  {
   "cell_type": "markdown",
   "id": "ede05317",
   "metadata": {},
   "source": [
    "Suppression des lignes sans `InvoiceDate`\n",
    "\n",
    "Les lignes sans date de facture (`InvoiceDate = NaT`) ne peuvent pas être utilisées dans les analyses temporelles (chiffre d’affaires par mois, tendances, etc.). Par conséquent, elles sont supprimées du dataset principal, mais conservées dans un fichier à part pour une éventuelle revue manuelle."
   ]
  },
  {
   "cell_type": "markdown",
   "id": "244909e5",
   "metadata": {},
   "source": [
    "- `InvoiceDate` est convertie en objet datetime pour permettre l'analyse temporelle."
   ]
  },
  {
   "cell_type": "code",
   "execution_count": 17,
   "id": "9743f5c6",
   "metadata": {},
   "outputs": [],
   "source": [
    "df = df[df['InvoiceDate'].notnull()]"
   ]
  },
  {
   "cell_type": "code",
   "execution_count": 18,
   "id": "8f1043eb",
   "metadata": {},
   "outputs": [
    {
     "data": {
      "text/plain": [
       "InvoiceNo           0\n",
       "StockCode           0\n",
       "Description         0\n",
       "Quantity            0\n",
       "InvoiceDate         0\n",
       "UnitPrice           0\n",
       "CustomerID     132565\n",
       "Country             0\n",
       "dtype: int64"
      ]
     },
     "execution_count": 18,
     "metadata": {},
     "output_type": "execute_result"
    }
   ],
   "source": [
    "df.isnull().sum()"
   ]
  },
  {
   "cell_type": "markdown",
   "id": "0f0400eb",
   "metadata": {},
   "source": [
    "### 4. Conversion des types de données (exemple : InvoiceDate)"
   ]
  },
  {
   "cell_type": "code",
   "execution_count": 19,
   "id": "e84340a3",
   "metadata": {},
   "outputs": [],
   "source": [
    "df['InvoiceDate'] = pd.to_datetime(df['InvoiceDate'], errors='coerce')"
   ]
  },
  {
   "cell_type": "code",
   "execution_count": 20,
   "id": "ca6f4752",
   "metadata": {},
   "outputs": [
    {
     "data": {
      "text/plain": [
       "InvoiceNo           0\n",
       "StockCode           0\n",
       "Description         0\n",
       "Quantity            0\n",
       "InvoiceDate         0\n",
       "UnitPrice           0\n",
       "CustomerID     132565\n",
       "Country             0\n",
       "dtype: int64"
      ]
     },
     "execution_count": 20,
     "metadata": {},
     "output_type": "execute_result"
    }
   ],
   "source": [
    "df.isnull().sum()"
   ]
  },
  {
   "cell_type": "code",
   "execution_count": 21,
   "id": "3130f9c8",
   "metadata": {},
   "outputs": [
    {
     "name": "stdout",
     "output_type": "stream",
     "text": [
      "Types de colonnes :\n",
      " InvoiceNo              object\n",
      "StockCode              object\n",
      "Description            object\n",
      "Quantity                int64\n",
      "InvoiceDate    datetime64[ns]\n",
      "UnitPrice             float64\n",
      "CustomerID            float64\n",
      "Country                object\n",
      "dtype: object\n"
     ]
    }
   ],
   "source": [
    "print(\"Types de colonnes :\\n\", df.dtypes)"
   ]
  },
  {
   "cell_type": "markdown",
   "id": "419c5a9b",
   "metadata": {},
   "source": [
    "### 5. gérer les lignes sans identifiant client (`CustomerID`)\n",
    "\n",
    "`CustomerID` est indispensable pour toutes les analyses client (segmentation, fidélité...). Les lignes sans identifiant sont supprimées."
   ]
  },
  {
   "cell_type": "markdown",
   "id": "4e1a3ca7",
   "metadata": {},
   "source": [
    "Nous avons choisi de conserver deux versions du dataset :\n",
    "- `df_all` : contient toutes les transactions, même anonymes. Cela permet d'analyser les ventes totales, produits et volumes.\n",
    "- `df_clients` : contient uniquement les lignes avec un identifiant client, afin d'explorer les comportements clients (RFM, rétention, etc.)."
   ]
  },
  {
   "cell_type": "code",
   "execution_count": 22,
   "id": "0f36a6fe",
   "metadata": {},
   "outputs": [],
   "source": [
    "df_all = df.copy()\n",
    "df_clients = df[df['CustomerID'].notnull()].copy()"
   ]
  },
  {
   "cell_type": "code",
   "execution_count": 23,
   "id": "fc786110",
   "metadata": {},
   "outputs": [
    {
     "data": {
      "text/plain": [
       "InvoiceNo           0\n",
       "StockCode           0\n",
       "Description         0\n",
       "Quantity            0\n",
       "InvoiceDate         0\n",
       "UnitPrice           0\n",
       "CustomerID     132565\n",
       "Country             0\n",
       "dtype: int64"
      ]
     },
     "execution_count": 23,
     "metadata": {},
     "output_type": "execute_result"
    }
   ],
   "source": [
    "df_all.isnull().sum()"
   ]
  },
  {
   "cell_type": "code",
   "execution_count": 24,
   "id": "bc26b287",
   "metadata": {},
   "outputs": [
    {
     "data": {
      "text/plain": [
       "InvoiceNo      0\n",
       "StockCode      0\n",
       "Description    0\n",
       "Quantity       0\n",
       "InvoiceDate    0\n",
       "UnitPrice      0\n",
       "CustomerID     0\n",
       "Country        0\n",
       "dtype: int64"
      ]
     },
     "execution_count": 24,
     "metadata": {},
     "output_type": "execute_result"
    }
   ],
   "source": [
    "df_clients.isnull().sum()"
   ]
  },
  {
   "cell_type": "markdown",
   "id": "a9a874dd",
   "metadata": {},
   "source": [
    "- `CustomerID` est converti en int aprés avoir supprimer les valeurs manquantes pour df_clients\n"
   ]
  },
  {
   "cell_type": "code",
   "execution_count": 25,
   "id": "189ec1a1",
   "metadata": {},
   "outputs": [],
   "source": [
    "df_clients['CustomerID'] = df_clients['CustomerID'].astype(int)"
   ]
  },
  {
   "cell_type": "code",
   "execution_count": 26,
   "id": "e3c85f17",
   "metadata": {},
   "outputs": [
    {
     "name": "stdout",
     "output_type": "stream",
     "text": [
      "Types de colonnes :\n",
      " InvoiceNo              object\n",
      "StockCode              object\n",
      "Description            object\n",
      "Quantity                int64\n",
      "InvoiceDate    datetime64[ns]\n",
      "UnitPrice             float64\n",
      "CustomerID              int64\n",
      "Country                object\n",
      "dtype: object\n"
     ]
    }
   ],
   "source": [
    "print(\"Types de colonnes :\\n\", df_clients.dtypes)"
   ]
  },
  {
   "cell_type": "markdown",
   "id": "5eba8c5e",
   "metadata": {},
   "source": [
    "# Etape 3 : Créaction des variables"
   ]
  },
  {
   "cell_type": "markdown",
   "id": "4439ac51",
   "metadata": {},
   "source": [
    "### Création de la variable `TotalPrice`\n",
    "\n",
    "Nous avons créé une variable **`TotalPrice`** afin de calculer le **montant total de chaque ligne de transaction**.\n",
    "\n",
    "Cette variable est obtenue en multipliant :\n",
    "- `Quantity` (le nombre d’unités commandées)\n",
    "- `UnitPrice` (le prix unitaire du produit)"
   ]
  },
  {
   "cell_type": "code",
   "execution_count": 27,
   "id": "f4fc5626",
   "metadata": {},
   "outputs": [],
   "source": [
    "# Création de la variable TotalPrice = quantité * prix unitaire\n",
    "df_all['TotalPrice'] = df_all['Quantity'] * df_all['UnitPrice']"
   ]
  },
  {
   "cell_type": "code",
   "execution_count": 28,
   "id": "12d900c1",
   "metadata": {},
   "outputs": [
    {
     "data": {
      "text/html": [
       "<div>\n",
       "<style scoped>\n",
       "    .dataframe tbody tr th:only-of-type {\n",
       "        vertical-align: middle;\n",
       "    }\n",
       "\n",
       "    .dataframe tbody tr th {\n",
       "        vertical-align: top;\n",
       "    }\n",
       "\n",
       "    .dataframe thead th {\n",
       "        text-align: right;\n",
       "    }\n",
       "</style>\n",
       "<table border=\"1\" class=\"dataframe\">\n",
       "  <thead>\n",
       "    <tr style=\"text-align: right;\">\n",
       "      <th></th>\n",
       "      <th>InvoiceNo</th>\n",
       "      <th>StockCode</th>\n",
       "      <th>Description</th>\n",
       "      <th>Quantity</th>\n",
       "      <th>InvoiceDate</th>\n",
       "      <th>UnitPrice</th>\n",
       "      <th>CustomerID</th>\n",
       "      <th>Country</th>\n",
       "      <th>TotalPrice</th>\n",
       "    </tr>\n",
       "  </thead>\n",
       "  <tbody>\n",
       "    <tr>\n",
       "      <th>0</th>\n",
       "      <td>536365</td>\n",
       "      <td>85123A</td>\n",
       "      <td>WHITE HANGING HEART T-LIGHT HOLDER</td>\n",
       "      <td>6</td>\n",
       "      <td>2010-12-01 08:26:00</td>\n",
       "      <td>2.55</td>\n",
       "      <td>17850.0</td>\n",
       "      <td>United Kingdom</td>\n",
       "      <td>15.30</td>\n",
       "    </tr>\n",
       "    <tr>\n",
       "      <th>1</th>\n",
       "      <td>536365</td>\n",
       "      <td>71053</td>\n",
       "      <td>WHITE METAL LANTERN</td>\n",
       "      <td>6</td>\n",
       "      <td>2010-12-01 08:26:00</td>\n",
       "      <td>3.39</td>\n",
       "      <td>17850.0</td>\n",
       "      <td>United Kingdom</td>\n",
       "      <td>20.34</td>\n",
       "    </tr>\n",
       "  </tbody>\n",
       "</table>\n",
       "</div>"
      ],
      "text/plain": [
       "  InvoiceNo StockCode                         Description  Quantity  \\\n",
       "0    536365    85123A  WHITE HANGING HEART T-LIGHT HOLDER         6   \n",
       "1    536365     71053                 WHITE METAL LANTERN         6   \n",
       "\n",
       "          InvoiceDate  UnitPrice  CustomerID         Country  TotalPrice  \n",
       "0 2010-12-01 08:26:00       2.55     17850.0  United Kingdom       15.30  \n",
       "1 2010-12-01 08:26:00       3.39     17850.0  United Kingdom       20.34  "
      ]
     },
     "execution_count": 28,
     "metadata": {},
     "output_type": "execute_result"
    }
   ],
   "source": [
    "df_all.head(2)"
   ]
  },
  {
   "cell_type": "markdown",
   "id": "7d6a520d",
   "metadata": {},
   "source": [
    "### Création des variables `IsReturn` et `IsCancelled`\n",
    "\n",
    "Pour mieux analyser la qualité de service et le comportement des clients, nous avons créé deux variables dérivées :\n",
    "\n",
    "- **`IsReturn`** : identifie si une ligne de transaction correspond à un retour produit.  \n",
    "  → Une quantité négative (`Quantity < 0`) indique généralement un retour, ce qui est fréquent dans les ventes en ligne.\n",
    "\n",
    "- **`IsCancelled`** : indique si la facture a été annulée.  \n",
    "  → Les numéros de facture annulés commencent par la lettre **\"C\"** dans le dataset (ex : \"C536379\"), selon la documentation du fournisseur de données.\n",
    "\n",
    "Ces deux variables permettent :\n",
    "- D’exclure facilement les retours si nécessaire (par exemple pour analyser uniquement les ventes réussies).\n",
    "- De mesurer le **taux de retour**, un indicateur clé de satisfaction et de qualité produit.\n",
    "- D'identifier les **produits les plus retournés ou annulés**, ce qui peut signaler des problèmes de qualité ou de logistique."
   ]
  },
  {
   "cell_type": "code",
   "execution_count": 29,
   "id": "2f5011cf",
   "metadata": {},
   "outputs": [],
   "source": [
    "# Création de la variable IsReturn : True si la quantité est négative\n",
    "df_all['IsReturn'] = df_all['Quantity'] < 0\n",
    "\n",
    "# Création de la variable IsCancelled : True si le numéro de facture commence par 'C'\n",
    "df_all['IsCancelled'] = df_all['InvoiceNo'].astype(str).str.startswith('C')"
   ]
  },
  {
   "cell_type": "code",
   "execution_count": 30,
   "id": "3f880099",
   "metadata": {},
   "outputs": [
    {
     "data": {
      "text/html": [
       "<div>\n",
       "<style scoped>\n",
       "    .dataframe tbody tr th:only-of-type {\n",
       "        vertical-align: middle;\n",
       "    }\n",
       "\n",
       "    .dataframe tbody tr th {\n",
       "        vertical-align: top;\n",
       "    }\n",
       "\n",
       "    .dataframe thead th {\n",
       "        text-align: right;\n",
       "    }\n",
       "</style>\n",
       "<table border=\"1\" class=\"dataframe\">\n",
       "  <thead>\n",
       "    <tr style=\"text-align: right;\">\n",
       "      <th></th>\n",
       "      <th>InvoiceNo</th>\n",
       "      <th>StockCode</th>\n",
       "      <th>Description</th>\n",
       "      <th>Quantity</th>\n",
       "      <th>InvoiceDate</th>\n",
       "      <th>UnitPrice</th>\n",
       "      <th>CustomerID</th>\n",
       "      <th>Country</th>\n",
       "      <th>TotalPrice</th>\n",
       "      <th>IsReturn</th>\n",
       "      <th>IsCancelled</th>\n",
       "    </tr>\n",
       "  </thead>\n",
       "  <tbody>\n",
       "    <tr>\n",
       "      <th>0</th>\n",
       "      <td>536365</td>\n",
       "      <td>85123A</td>\n",
       "      <td>WHITE HANGING HEART T-LIGHT HOLDER</td>\n",
       "      <td>6</td>\n",
       "      <td>2010-12-01 08:26:00</td>\n",
       "      <td>2.55</td>\n",
       "      <td>17850.0</td>\n",
       "      <td>United Kingdom</td>\n",
       "      <td>15.30</td>\n",
       "      <td>False</td>\n",
       "      <td>False</td>\n",
       "    </tr>\n",
       "    <tr>\n",
       "      <th>1</th>\n",
       "      <td>536365</td>\n",
       "      <td>71053</td>\n",
       "      <td>WHITE METAL LANTERN</td>\n",
       "      <td>6</td>\n",
       "      <td>2010-12-01 08:26:00</td>\n",
       "      <td>3.39</td>\n",
       "      <td>17850.0</td>\n",
       "      <td>United Kingdom</td>\n",
       "      <td>20.34</td>\n",
       "      <td>False</td>\n",
       "      <td>False</td>\n",
       "    </tr>\n",
       "    <tr>\n",
       "      <th>2</th>\n",
       "      <td>536365</td>\n",
       "      <td>84406B</td>\n",
       "      <td>CREAM CUPID HEARTS COAT HANGER</td>\n",
       "      <td>8</td>\n",
       "      <td>2010-12-01 08:26:00</td>\n",
       "      <td>2.75</td>\n",
       "      <td>17850.0</td>\n",
       "      <td>United Kingdom</td>\n",
       "      <td>22.00</td>\n",
       "      <td>False</td>\n",
       "      <td>False</td>\n",
       "    </tr>\n",
       "  </tbody>\n",
       "</table>\n",
       "</div>"
      ],
      "text/plain": [
       "  InvoiceNo StockCode                         Description  Quantity  \\\n",
       "0    536365    85123A  WHITE HANGING HEART T-LIGHT HOLDER         6   \n",
       "1    536365     71053                 WHITE METAL LANTERN         6   \n",
       "2    536365    84406B      CREAM CUPID HEARTS COAT HANGER         8   \n",
       "\n",
       "          InvoiceDate  UnitPrice  CustomerID         Country  TotalPrice  \\\n",
       "0 2010-12-01 08:26:00       2.55     17850.0  United Kingdom       15.30   \n",
       "1 2010-12-01 08:26:00       3.39     17850.0  United Kingdom       20.34   \n",
       "2 2010-12-01 08:26:00       2.75     17850.0  United Kingdom       22.00   \n",
       "\n",
       "   IsReturn  IsCancelled  \n",
       "0     False        False  \n",
       "1     False        False  \n",
       "2     False        False  "
      ]
     },
     "execution_count": 30,
     "metadata": {},
     "output_type": "execute_result"
    }
   ],
   "source": [
    "df_all.head(3)"
   ]
  },
  {
   "cell_type": "markdown",
   "id": "c578f171",
   "metadata": {},
   "source": [
    "### Création de variable `InvoiceHour`\n",
    "\n",
    "Elle représente l’heure de la journée à laquelle une commande a été passée, extraite depuis la colonne InvoiceDate.\n",
    "\n",
    "Cette variable permet d’analyser les heures d'activité des clients sur le site e-commerce. Elle peut être utilisée pour :\n",
    "- Identifier les **pics de commandes** dans la journée\n",
    "\n",
    "- Adapter les **campagnes marketing** à certaines heures\n",
    "\n",
    "- **Optimiser les ressources** (support, logistique)"
   ]
  },
  {
   "cell_type": "code",
   "execution_count": 31,
   "id": "48c0de8a",
   "metadata": {},
   "outputs": [
    {
     "name": "stdout",
     "output_type": "stream",
     "text": [
      "          InvoiceDate  InvoiceHour\n",
      "0 2010-12-01 08:26:00            8\n",
      "1 2010-12-01 08:26:00            8\n",
      "2 2010-12-01 08:26:00            8\n",
      "3 2010-12-01 08:26:00            8\n",
      "4 2010-12-01 08:26:00            8\n"
     ]
    }
   ],
   "source": [
    "\n",
    "# Extraire l'heure de la journée (entre 0 et 23)\n",
    "df_all['InvoiceHour'] = df_all['InvoiceDate'].dt.hour\n",
    "\n",
    "# Afficher les premières lignes\n",
    "print(df_all[['InvoiceDate', 'InvoiceHour']].head())"
   ]
  },
  {
   "cell_type": "markdown",
   "id": "5eb4aa1f",
   "metadata": {},
   "source": [
    "### Création de variable `InvoiceTotalItems`\n",
    "\n",
    "Elle représente le **nombre total d’articles commandés dans une facture**. Elle se calcule en additionnant les quantités (Quantity) de toutes les lignes d’une même facture (InvoiceNo).\n",
    "\n",
    "**Objectifs:**\n",
    "\n",
    "- Analyser le comportement d’achat (Identifier les factures avec des achats en gros vs. des achats unitaires).\n",
    "- Segmenter les clients ou les commandes:Catégoriser les commandes et Mieux cibler les campagnes marketing.\n",
    "- Repérer les commandes anormales (fraude, erreurs, retours).\n"
   ]
  },
  {
   "cell_type": "code",
   "execution_count": 32,
   "id": "63354ecd",
   "metadata": {},
   "outputs": [
    {
     "name": "stdout",
     "output_type": "stream",
     "text": [
      "  InvoiceNo  Quantity  InvoiceTotalItems\n",
      "0    536365         6                 40\n",
      "1    536365         6                 40\n",
      "2    536365         8                 40\n",
      "3    536365         6                 40\n",
      "4    536365         6                 40\n"
     ]
    }
   ],
   "source": [
    "# Calculer le total d'articles par facture\n",
    "invoice_totals = df_all.groupby('InvoiceNo')['Quantity'].sum().reset_index()\n",
    "invoice_totals.rename(columns={'Quantity': 'InvoiceTotalItems'}, inplace=True)\n",
    "\n",
    "# Fusionner avec le dataframe original\n",
    "df_all = df_all.merge(invoice_totals, on='InvoiceNo', how='left')\n",
    "\n",
    "# Afficher les colonnes pertinentes\n",
    "print(df_all[['InvoiceNo', 'Quantity', 'InvoiceTotalItems']].head())"
   ]
  },
  {
   "cell_type": "markdown",
   "id": "29b2a28c",
   "metadata": {},
   "source": [
    "### Création des variables spécifiques aux clients: `CustomerTotalSpent` et `CustomerNumOrders`\n",
    "\n",
    "- `CustomerTotalSpent` :  représente le montant total dépensé par un client sur toute la période du dataset. On le calcule en multipliant Quantity × UnitPrice pour chaque ligne de commande, puis en additionnant par CustomerID.  \n",
    "  \n",
    "  → Cette variable permet d'identifier les clients les plus rentables et prioriser le service ou les offres VIP pour les clients à forte dépense. Elle permet aussi la détection de comportements inhabituels (erreur de facturation, fraude potentielle...)\n",
    "\n",
    "\n",
    "- `CustomerNumOrders` : représente le nombre total de commandes uniques (factures) passées par un client (CustomerID). On compte le nombre de factures (InvoiceNo) différentes associées à chaque client.  \n",
    "  \n",
    "  → Cette variable permet de comprendre la fréquence d'achat (détecter les clients réguliers vs. occasionnels  et identifier les clients fidèles)"
   ]
  },
  {
   "cell_type": "code",
   "execution_count": 33,
   "id": "7ba29ea1",
   "metadata": {},
   "outputs": [
    {
     "name": "stdout",
     "output_type": "stream",
     "text": [
      "      CustomerID  CustomerTotalSpent\n",
      "1702       14646           279489.02\n",
      "4232       18102           256438.49\n",
      "3757       17450           187322.17\n",
      "1894       14911           132458.73\n",
      "55         12415           123725.45\n"
     ]
    }
   ],
   "source": [
    "##CustomerTotalSpent:\n",
    "\n",
    "# Création d'une colonne 'TotalPrice' dans la dataset df_clients\n",
    "df_clients['TotalPrice'] = df_clients['Quantity'] * df_clients['UnitPrice']\n",
    "\n",
    "# Calcul du total dépensé par client\n",
    "customer_spent = df_clients.groupby('CustomerID')['TotalPrice'].sum().reset_index()\n",
    "customer_spent.rename(columns={'TotalPrice': 'CustomerTotalSpent'}, inplace=True)\n",
    "\n",
    "# Fusionner avec le dataframe original\n",
    "df_clients = df_clients.merge(customer_spent, on='CustomerID', how='left')\n",
    "\n",
    "# Affichage des 5 meilleurs clients\n",
    "print(customer_spent.sort_values('CustomerTotalSpent', ascending=False).head())"
   ]
  },
  {
   "cell_type": "code",
   "execution_count": 34,
   "id": "55020478",
   "metadata": {},
   "outputs": [
    {
     "name": "stdout",
     "output_type": "stream",
     "text": [
      "      CustomerID  CustomerNumOrders\n",
      "1894       14911                248\n",
      "330        12748                223\n",
      "4041       17841                169\n",
      "1673       14606                128\n",
      "2191       15311                118\n"
     ]
    }
   ],
   "source": [
    "## CustomerNumOrders\n",
    "# Suppression des doublons de lignes de commande pour ne compter qu'une fois chaque facture par client\n",
    "df_unique_orders = df_clients[['CustomerID', 'InvoiceNo']].drop_duplicates()\n",
    "\n",
    "# Compter le nombre de factures uniques par client\n",
    "customer_orders = df_unique_orders.groupby('CustomerID')['InvoiceNo'].nunique().reset_index()\n",
    "customer_orders.rename(columns={'InvoiceNo': 'CustomerNumOrders'}, inplace=True)\n",
    "# Fusionner avec le dataframe original\n",
    "df_clients = df_clients.merge(customer_orders, on='CustomerID', how='left')\n",
    "# Afficher les clients les plus actifs\n",
    "print(customer_orders.sort_values('CustomerNumOrders', ascending=False).head())"
   ]
  },
  {
   "cell_type": "code",
   "execution_count": 35,
   "id": "78669941",
   "metadata": {},
   "outputs": [
    {
     "name": "stdout",
     "output_type": "stream",
     "text": [
      "       CustomerID  CustomerTotalSpent  CustomerNumOrders\n",
      "24526       14646           279489.02                 76\n",
      "10664       18102           256438.49                 62\n",
      "9608        17450           187322.17                 55\n",
      "1367        14911           132458.73                248\n",
      "28318       12415           123725.45                 26\n"
     ]
    }
   ],
   "source": [
    "# On suppose que df_clients contient CustomerID, CustomerTotalSpent, CustomerNumOrders\n",
    "\n",
    "top_clients = df_clients[['CustomerID', 'CustomerTotalSpent', 'CustomerNumOrders']] \\\n",
    "    .drop_duplicates(subset='CustomerID') \\\n",
    "    .sort_values(by='CustomerTotalSpent', ascending=False) \\\n",
    "    .head(5)\n",
    "\n",
    "print(top_clients)"
   ]
  },
  {
   "cell_type": "markdown",
   "id": "15a18166",
   "metadata": {},
   "source": [
    "\n",
    "### Ajout de colonnes temporelles utiles à l’analyse\n",
    "\n",
    "   - `YearMonth` : pour regrouper les données par mois (au format 'AAAA-MM')\n",
    "   \n",
    "   - `InvoiceHour` : pour extraire l'heure de la journée de la transaction\n",
    "  \n",
    "-> But : enrichir les jeux de données avec des informations temporelles dérivées de InvoiceDate afin de permettre des analyses par mois ou par heure (ex : saisonnalité, habitudes d’achat horaires)."
   ]
  },
  {
   "cell_type": "code",
   "execution_count": 60,
   "id": "4902662c",
   "metadata": {},
   "outputs": [],
   "source": [
    "# Ajout de colonnes\n",
    "for df in [df_all, df_clients]:\n",
    "    df['YearMonth'] = df['InvoiceDate'].dt.to_period('M').astype(str)\n",
    "    df['InvoiceHour'] = df['InvoiceDate'].dt.hour"
   ]
  },
  {
   "cell_type": "markdown",
   "id": "411b379c",
   "metadata": {},
   "source": [
    "### Sauvegarde des deux datasets nettoyées\n",
    "\n",
    "On sauvegarde les datasets nettoyés pour les réutiliser dans Streamlit, sans refaire le nettoyage dans app.py:\n",
    "- `df_all` : contient toutes les transactions, même anonymes.\n",
    "- `df_clients` : contient uniquement les lignes avec un identifiant client."
   ]
  },
  {
   "cell_type": "code",
   "execution_count": 61,
   "id": "411b379c",
   "metadata": {},
   "outputs": [],
   "source": [
    "df_all.to_csv(\"df_all.csv\", index=False)\n",
    "df_clients.to_csv(\"df_clients.csv\", index=False)"
   ]
  },
  {
   "cell_type": "code",
   "execution_count": 62,
   "id": "b18176ab",
   "metadata": {},
   "outputs": [
    {
     "data": {
      "text/plain": [
       "(534129, 14)"
      ]
     },
     "execution_count": 62,
     "metadata": {},
     "output_type": "execute_result"
    }
   ],
   "source": [
    "df_all.shape"
   ]
  },
  {
   "cell_type": "code",
   "execution_count": 63,
   "id": "ab6aee08",
   "metadata": {},
   "outputs": [
    {
     "data": {
      "text/plain": [
       "(401564, 13)"
      ]
     },
     "execution_count": 63,
     "metadata": {},
     "output_type": "execute_result"
    }
   ],
   "source": [
    "df_clients.shape"
   ]
  },
  {
   "cell_type": "code",
   "execution_count": 64,
   "id": "ac7e9665",
   "metadata": {},
   "outputs": [
    {
     "data": {
      "text/plain": [
       "Index(['InvoiceNo', 'StockCode', 'Description', 'Quantity', 'InvoiceDate',\n",
       "       'UnitPrice', 'CustomerID', 'Country', 'TotalPrice', 'IsReturn',\n",
       "       'IsCancelled', 'InvoiceHour', 'InvoiceTotalItems', 'YearMonth'],\n",
       "      dtype='object')"
      ]
     },
     "execution_count": 64,
     "metadata": {},
     "output_type": "execute_result"
    }
   ],
   "source": [
    "df_all.columns\n"
   ]
  },
  {
   "cell_type": "code",
   "execution_count": 65,
   "id": "19a2b554",
   "metadata": {},
   "outputs": [
    {
     "data": {
      "text/plain": [
       "Index(['InvoiceNo', 'StockCode', 'Description', 'Quantity', 'InvoiceDate',\n",
       "       'UnitPrice', 'CustomerID', 'Country', 'TotalPrice',\n",
       "       'CustomerTotalSpent', 'CustomerNumOrders', 'YearMonth', 'InvoiceHour'],\n",
       "      dtype='object')"
      ]
     },
     "execution_count": 65,
     "metadata": {},
     "output_type": "execute_result"
    }
   ],
   "source": [
    "df_clients.columns"
   ]
  },
  {
   "cell_type": "code",
   "execution_count": 66,
   "id": "8f2a08c9",
   "metadata": {},
   "outputs": [
    {
     "data": {
      "text/html": [
       "<div>\n",
       "<style scoped>\n",
       "    .dataframe tbody tr th:only-of-type {\n",
       "        vertical-align: middle;\n",
       "    }\n",
       "\n",
       "    .dataframe tbody tr th {\n",
       "        vertical-align: top;\n",
       "    }\n",
       "\n",
       "    .dataframe thead th {\n",
       "        text-align: right;\n",
       "    }\n",
       "</style>\n",
       "<table border=\"1\" class=\"dataframe\">\n",
       "  <thead>\n",
       "    <tr style=\"text-align: right;\">\n",
       "      <th></th>\n",
       "      <th>InvoiceNo</th>\n",
       "      <th>StockCode</th>\n",
       "      <th>Description</th>\n",
       "      <th>Quantity</th>\n",
       "      <th>InvoiceDate</th>\n",
       "      <th>UnitPrice</th>\n",
       "      <th>CustomerID</th>\n",
       "      <th>Country</th>\n",
       "      <th>TotalPrice</th>\n",
       "      <th>IsReturn</th>\n",
       "      <th>IsCancelled</th>\n",
       "      <th>InvoiceHour</th>\n",
       "      <th>InvoiceTotalItems</th>\n",
       "      <th>YearMonth</th>\n",
       "    </tr>\n",
       "  </thead>\n",
       "  <tbody>\n",
       "    <tr>\n",
       "      <th>0</th>\n",
       "      <td>536365</td>\n",
       "      <td>85123A</td>\n",
       "      <td>WHITE HANGING HEART T-LIGHT HOLDER</td>\n",
       "      <td>6</td>\n",
       "      <td>2010-12-01 08:26:00</td>\n",
       "      <td>2.55</td>\n",
       "      <td>17850.0</td>\n",
       "      <td>United Kingdom</td>\n",
       "      <td>15.30</td>\n",
       "      <td>False</td>\n",
       "      <td>False</td>\n",
       "      <td>8</td>\n",
       "      <td>40</td>\n",
       "      <td>2010-12</td>\n",
       "    </tr>\n",
       "    <tr>\n",
       "      <th>1</th>\n",
       "      <td>536365</td>\n",
       "      <td>71053</td>\n",
       "      <td>WHITE METAL LANTERN</td>\n",
       "      <td>6</td>\n",
       "      <td>2010-12-01 08:26:00</td>\n",
       "      <td>3.39</td>\n",
       "      <td>17850.0</td>\n",
       "      <td>United Kingdom</td>\n",
       "      <td>20.34</td>\n",
       "      <td>False</td>\n",
       "      <td>False</td>\n",
       "      <td>8</td>\n",
       "      <td>40</td>\n",
       "      <td>2010-12</td>\n",
       "    </tr>\n",
       "    <tr>\n",
       "      <th>2</th>\n",
       "      <td>536365</td>\n",
       "      <td>84406B</td>\n",
       "      <td>CREAM CUPID HEARTS COAT HANGER</td>\n",
       "      <td>8</td>\n",
       "      <td>2010-12-01 08:26:00</td>\n",
       "      <td>2.75</td>\n",
       "      <td>17850.0</td>\n",
       "      <td>United Kingdom</td>\n",
       "      <td>22.00</td>\n",
       "      <td>False</td>\n",
       "      <td>False</td>\n",
       "      <td>8</td>\n",
       "      <td>40</td>\n",
       "      <td>2010-12</td>\n",
       "    </tr>\n",
       "    <tr>\n",
       "      <th>3</th>\n",
       "      <td>536365</td>\n",
       "      <td>84029G</td>\n",
       "      <td>KNITTED UNION FLAG HOT WATER BOTTLE</td>\n",
       "      <td>6</td>\n",
       "      <td>2010-12-01 08:26:00</td>\n",
       "      <td>3.39</td>\n",
       "      <td>17850.0</td>\n",
       "      <td>United Kingdom</td>\n",
       "      <td>20.34</td>\n",
       "      <td>False</td>\n",
       "      <td>False</td>\n",
       "      <td>8</td>\n",
       "      <td>40</td>\n",
       "      <td>2010-12</td>\n",
       "    </tr>\n",
       "    <tr>\n",
       "      <th>4</th>\n",
       "      <td>536365</td>\n",
       "      <td>84029E</td>\n",
       "      <td>RED WOOLLY HOTTIE WHITE HEART.</td>\n",
       "      <td>6</td>\n",
       "      <td>2010-12-01 08:26:00</td>\n",
       "      <td>3.39</td>\n",
       "      <td>17850.0</td>\n",
       "      <td>United Kingdom</td>\n",
       "      <td>20.34</td>\n",
       "      <td>False</td>\n",
       "      <td>False</td>\n",
       "      <td>8</td>\n",
       "      <td>40</td>\n",
       "      <td>2010-12</td>\n",
       "    </tr>\n",
       "  </tbody>\n",
       "</table>\n",
       "</div>"
      ],
      "text/plain": [
       "  InvoiceNo StockCode                          Description  Quantity  \\\n",
       "0    536365    85123A   WHITE HANGING HEART T-LIGHT HOLDER         6   \n",
       "1    536365     71053                  WHITE METAL LANTERN         6   \n",
       "2    536365    84406B       CREAM CUPID HEARTS COAT HANGER         8   \n",
       "3    536365    84029G  KNITTED UNION FLAG HOT WATER BOTTLE         6   \n",
       "4    536365    84029E       RED WOOLLY HOTTIE WHITE HEART.         6   \n",
       "\n",
       "          InvoiceDate  UnitPrice  CustomerID         Country  TotalPrice  \\\n",
       "0 2010-12-01 08:26:00       2.55     17850.0  United Kingdom       15.30   \n",
       "1 2010-12-01 08:26:00       3.39     17850.0  United Kingdom       20.34   \n",
       "2 2010-12-01 08:26:00       2.75     17850.0  United Kingdom       22.00   \n",
       "3 2010-12-01 08:26:00       3.39     17850.0  United Kingdom       20.34   \n",
       "4 2010-12-01 08:26:00       3.39     17850.0  United Kingdom       20.34   \n",
       "\n",
       "   IsReturn  IsCancelled  InvoiceHour  InvoiceTotalItems YearMonth  \n",
       "0     False        False            8                 40   2010-12  \n",
       "1     False        False            8                 40   2010-12  \n",
       "2     False        False            8                 40   2010-12  \n",
       "3     False        False            8                 40   2010-12  \n",
       "4     False        False            8                 40   2010-12  "
      ]
     },
     "execution_count": 66,
     "metadata": {},
     "output_type": "execute_result"
    }
   ],
   "source": [
    "df_all.head(5)"
   ]
  },
  {
   "cell_type": "code",
   "execution_count": 42,
   "id": "0638ecb9",
   "metadata": {},
   "outputs": [
    {
     "data": {
      "text/html": [
       "<div>\n",
       "<style scoped>\n",
       "    .dataframe tbody tr th:only-of-type {\n",
       "        vertical-align: middle;\n",
       "    }\n",
       "\n",
       "    .dataframe tbody tr th {\n",
       "        vertical-align: top;\n",
       "    }\n",
       "\n",
       "    .dataframe thead th {\n",
       "        text-align: right;\n",
       "    }\n",
       "</style>\n",
       "<table border=\"1\" class=\"dataframe\">\n",
       "  <thead>\n",
       "    <tr style=\"text-align: right;\">\n",
       "      <th></th>\n",
       "      <th>InvoiceNo</th>\n",
       "      <th>StockCode</th>\n",
       "      <th>Description</th>\n",
       "      <th>Quantity</th>\n",
       "      <th>InvoiceDate</th>\n",
       "      <th>UnitPrice</th>\n",
       "      <th>CustomerID</th>\n",
       "      <th>Country</th>\n",
       "      <th>TotalPrice</th>\n",
       "      <th>CustomerTotalSpent</th>\n",
       "      <th>CustomerNumOrders</th>\n",
       "    </tr>\n",
       "  </thead>\n",
       "  <tbody>\n",
       "    <tr>\n",
       "      <th>0</th>\n",
       "      <td>536365</td>\n",
       "      <td>85123A</td>\n",
       "      <td>WHITE HANGING HEART T-LIGHT HOLDER</td>\n",
       "      <td>6</td>\n",
       "      <td>2010-12-01 08:26:00</td>\n",
       "      <td>2.55</td>\n",
       "      <td>17850</td>\n",
       "      <td>United Kingdom</td>\n",
       "      <td>15.30</td>\n",
       "      <td>5303.48</td>\n",
       "      <td>35</td>\n",
       "    </tr>\n",
       "    <tr>\n",
       "      <th>1</th>\n",
       "      <td>536365</td>\n",
       "      <td>71053</td>\n",
       "      <td>WHITE METAL LANTERN</td>\n",
       "      <td>6</td>\n",
       "      <td>2010-12-01 08:26:00</td>\n",
       "      <td>3.39</td>\n",
       "      <td>17850</td>\n",
       "      <td>United Kingdom</td>\n",
       "      <td>20.34</td>\n",
       "      <td>5303.48</td>\n",
       "      <td>35</td>\n",
       "    </tr>\n",
       "    <tr>\n",
       "      <th>2</th>\n",
       "      <td>536365</td>\n",
       "      <td>84406B</td>\n",
       "      <td>CREAM CUPID HEARTS COAT HANGER</td>\n",
       "      <td>8</td>\n",
       "      <td>2010-12-01 08:26:00</td>\n",
       "      <td>2.75</td>\n",
       "      <td>17850</td>\n",
       "      <td>United Kingdom</td>\n",
       "      <td>22.00</td>\n",
       "      <td>5303.48</td>\n",
       "      <td>35</td>\n",
       "    </tr>\n",
       "    <tr>\n",
       "      <th>3</th>\n",
       "      <td>536365</td>\n",
       "      <td>84029G</td>\n",
       "      <td>KNITTED UNION FLAG HOT WATER BOTTLE</td>\n",
       "      <td>6</td>\n",
       "      <td>2010-12-01 08:26:00</td>\n",
       "      <td>3.39</td>\n",
       "      <td>17850</td>\n",
       "      <td>United Kingdom</td>\n",
       "      <td>20.34</td>\n",
       "      <td>5303.48</td>\n",
       "      <td>35</td>\n",
       "    </tr>\n",
       "    <tr>\n",
       "      <th>4</th>\n",
       "      <td>536365</td>\n",
       "      <td>84029E</td>\n",
       "      <td>RED WOOLLY HOTTIE WHITE HEART.</td>\n",
       "      <td>6</td>\n",
       "      <td>2010-12-01 08:26:00</td>\n",
       "      <td>3.39</td>\n",
       "      <td>17850</td>\n",
       "      <td>United Kingdom</td>\n",
       "      <td>20.34</td>\n",
       "      <td>5303.48</td>\n",
       "      <td>35</td>\n",
       "    </tr>\n",
       "  </tbody>\n",
       "</table>\n",
       "</div>"
      ],
      "text/plain": [
       "  InvoiceNo StockCode                          Description  Quantity  \\\n",
       "0    536365    85123A   WHITE HANGING HEART T-LIGHT HOLDER         6   \n",
       "1    536365     71053                  WHITE METAL LANTERN         6   \n",
       "2    536365    84406B       CREAM CUPID HEARTS COAT HANGER         8   \n",
       "3    536365    84029G  KNITTED UNION FLAG HOT WATER BOTTLE         6   \n",
       "4    536365    84029E       RED WOOLLY HOTTIE WHITE HEART.         6   \n",
       "\n",
       "          InvoiceDate  UnitPrice  CustomerID         Country  TotalPrice  \\\n",
       "0 2010-12-01 08:26:00       2.55       17850  United Kingdom       15.30   \n",
       "1 2010-12-01 08:26:00       3.39       17850  United Kingdom       20.34   \n",
       "2 2010-12-01 08:26:00       2.75       17850  United Kingdom       22.00   \n",
       "3 2010-12-01 08:26:00       3.39       17850  United Kingdom       20.34   \n",
       "4 2010-12-01 08:26:00       3.39       17850  United Kingdom       20.34   \n",
       "\n",
       "   CustomerTotalSpent  CustomerNumOrders  \n",
       "0             5303.48                 35  \n",
       "1             5303.48                 35  \n",
       "2             5303.48                 35  \n",
       "3             5303.48                 35  \n",
       "4             5303.48                 35  "
      ]
     },
     "execution_count": 42,
     "metadata": {},
     "output_type": "execute_result"
    }
   ],
   "source": [
    "df_clients.head(5)"
   ]
  },
  {
   "cell_type": "markdown",
   "id": "fb97951f",
   "metadata": {},
   "source": [
    "# Etape 4 : Visualisation des tendances :  \n",
    "cette etape est developpé au niveau du file app.py. Il s'agit d'une creéation de webApp interactive avec streamlit.\n"
   ]
  },
  {
   "cell_type": "markdown",
   "id": "7b7de309",
   "metadata": {},
   "source": [
    "# Etape 5 : Partie text mining  "
   ]
  },
  {
   "cell_type": "code",
   "execution_count": 43,
   "id": "8fe33f43",
   "metadata": {},
   "outputs": [
    {
     "name": "stderr",
     "output_type": "stream",
     "text": [
      "[nltk_data] Downloading package punkt to\n",
      "[nltk_data]     C:\\Users\\33605\\AppData\\Roaming\\nltk_data...\n",
      "[nltk_data]   Package punkt is already up-to-date!\n",
      "[nltk_data] Downloading package stopwords to\n",
      "[nltk_data]     C:\\Users\\33605\\AppData\\Roaming\\nltk_data...\n",
      "[nltk_data]   Package stopwords is already up-to-date!\n"
     ]
    },
    {
     "data": {
      "image/png": "[encoded data removed]",
      "text/plain": [
       "<Figure size 1500x700 with 1 Axes>"
      ]
     },
     "metadata": {},
     "output_type": "display_data"
    }
   ],
   "source": [
    "import nltk\n",
    "from nltk.corpus import stopwords\n",
    "import string\n",
    "from wordcloud import WordCloud\n",
    "import matplotlib.pyplot as plt\n",
    "\n",
    "# Télécharger les ressources NLTK nécessaires (à faire une fois)\n",
    "nltk.download('punkt')\n",
    "nltk.download('stopwords')\n",
    "\n",
    "# texte source (un extrait d'article)\n",
    "texte = \"\"\"\n",
    "E-commerce is rapidly transforming the retail landscape by providing customers with \n",
    "convenient and fast shopping options. Understanding customer behavior and sales \n",
    "patterns is essential for improving service quality and business strategies.\n",
    "\"\"\"\n",
    "\n",
    "# 1. Nettoyage du texte : minuscules, suppression ponctuation\n",
    "texte = texte.lower()  # tout en minuscules\n",
    "texte = texte.translate(str.maketrans('', '', string.punctuation))  # suppression ponctuation\n",
    "\n",
    "# 2. Tokenisation\n",
    "from nltk.tokenize import wordpunct_tokenize\n",
    "tokens = wordpunct_tokenize(texte)\n",
    "\n",
    "# 3. Suppression des stopwords\n",
    "stop_words = set(stopwords.words('english'))\n",
    "tokens_filtrés = [mot for mot in tokens if mot not in stop_words]\n",
    "\n",
    "# 4. Création d’un texte nettoyé prêt pour WordCloud\n",
    "texte_nettoye = \" \".join(tokens_filtrés)\n",
    "\n",
    "# 5. Génération du nuage de mots\n",
    "wordcloud = WordCloud(width=800, height=400, background_color='white').generate(texte_nettoye)\n",
    "\n",
    "# 6. Affichage\n",
    "plt.figure(figsize=(15, 7))\n",
    "plt.imshow(wordcloud, interpolation='bilinear')\n",
    "plt.axis('off')\n",
    "plt.show()"
   ]
  }
 ],
 "metadata": {
  "kernelspec": {
   "display_name": ".venv",
   "language": "python",
   "name": "python3"
  },
  "language_info": {
   "codemirror_mode": {
    "name": "ipython",
    "version": 3
   },
   "file_extension": ".py",
   "mimetype": "text/x-python",
   "name": "python",
   "nbconvert_exporter": "python",
   "pygments_lexer": "ipython3",
   "version": "3.12.10"
  }
 },
 "nbformat": 4,
 "nbformat_minor": 5
}
