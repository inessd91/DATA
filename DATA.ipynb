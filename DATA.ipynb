{
 "cells": [
  {
   "cell_type": "code",
   "execution_count": null,
   "id": "5734ec4a",
   "metadata": {},
   "outputs": [],
   "source": []
  },
  {
   "cell_type": "code",
   "execution_count": null,
   "id": "a333b9a9",
   "metadata": {},
   "outputs": [],
   "source": []
  },
  {
   "cell_type": "markdown",
   "id": "792d7f15",
   "metadata": {},
   "source": [
    "1. Chargement des données"
   ]
  },
  {
   "cell_type": "code",
   "execution_count": 2,
   "id": "f94d3de3",
   "metadata": {},
   "outputs": [],
   "source": [
    "import pandas as pd"
   ]
  },
  {
   "cell_type": "code",
   "execution_count": 70,
   "id": "19f415f3",
   "metadata": {},
   "outputs": [
    {
     "name": "stdout",
     "output_type": "stream",
     "text": [
      "<class 'pandas.core.frame.DataFrame'>\n",
      "RangeIndex: 541909 entries, 0 to 541908\n",
      "Data columns (total 8 columns):\n",
      " #   Column       Non-Null Count   Dtype  \n",
      "---  ------       --------------   -----  \n",
      " 0   InvoiceNo    541909 non-null  object \n",
      " 1   StockCode    541909 non-null  object \n",
      " 2   Description  540455 non-null  object \n",
      " 3   Quantity     541909 non-null  int64  \n",
      " 4   InvoiceDate  541909 non-null  object \n",
      " 5   UnitPrice    541909 non-null  float64\n",
      " 6   CustomerID   406829 non-null  float64\n",
      " 7   Country      541909 non-null  object \n",
      "dtypes: float64(2), int64(1), object(5)\n",
      "memory usage: 33.1+ MB\n"
     ]
    },
    {
     "data": {
      "text/html": [
       "<div>\n",
       "<style scoped>\n",
       "    .dataframe tbody tr th:only-of-type {\n",
       "        vertical-align: middle;\n",
       "    }\n",
       "\n",
       "    .dataframe tbody tr th {\n",
       "        vertical-align: top;\n",
       "    }\n",
       "\n",
       "    .dataframe thead th {\n",
       "        text-align: right;\n",
       "    }\n",
       "</style>\n",
       "<table border=\"1\" class=\"dataframe\">\n",
       "  <thead>\n",
       "    <tr style=\"text-align: right;\">\n",
       "      <th></th>\n",
       "      <th>Quantity</th>\n",
       "      <th>UnitPrice</th>\n",
       "      <th>CustomerID</th>\n",
       "    </tr>\n",
       "  </thead>\n",
       "  <tbody>\n",
       "    <tr>\n",
       "      <th>count</th>\n",
       "      <td>541909.000000</td>\n",
       "      <td>541909.000000</td>\n",
       "      <td>406829.000000</td>\n",
       "    </tr>\n",
       "    <tr>\n",
       "      <th>mean</th>\n",
       "      <td>9.552250</td>\n",
       "      <td>4.611114</td>\n",
       "      <td>15287.690570</td>\n",
       "    </tr>\n",
       "    <tr>\n",
       "      <th>std</th>\n",
       "      <td>218.081158</td>\n",
       "      <td>96.759853</td>\n",
       "      <td>1713.600303</td>\n",
       "    </tr>\n",
       "    <tr>\n",
       "      <th>min</th>\n",
       "      <td>-80995.000000</td>\n",
       "      <td>-11062.060000</td>\n",
       "      <td>12346.000000</td>\n",
       "    </tr>\n",
       "    <tr>\n",
       "      <th>25%</th>\n",
       "      <td>1.000000</td>\n",
       "      <td>1.250000</td>\n",
       "      <td>13953.000000</td>\n",
       "    </tr>\n",
       "    <tr>\n",
       "      <th>50%</th>\n",
       "      <td>3.000000</td>\n",
       "      <td>2.080000</td>\n",
       "      <td>15152.000000</td>\n",
       "    </tr>\n",
       "    <tr>\n",
       "      <th>75%</th>\n",
       "      <td>10.000000</td>\n",
       "      <td>4.130000</td>\n",
       "      <td>16791.000000</td>\n",
       "    </tr>\n",
       "    <tr>\n",
       "      <th>max</th>\n",
       "      <td>80995.000000</td>\n",
       "      <td>38970.000000</td>\n",
       "      <td>18287.000000</td>\n",
       "    </tr>\n",
       "  </tbody>\n",
       "</table>\n",
       "</div>"
      ],
      "text/plain": [
       "            Quantity      UnitPrice     CustomerID\n",
       "count  541909.000000  541909.000000  406829.000000\n",
       "mean        9.552250       4.611114   15287.690570\n",
       "std       218.081158      96.759853    1713.600303\n",
       "min    -80995.000000  -11062.060000   12346.000000\n",
       "25%         1.000000       1.250000   13953.000000\n",
       "50%         3.000000       2.080000   15152.000000\n",
       "75%        10.000000       4.130000   16791.000000\n",
       "max     80995.000000   38970.000000   18287.000000"
      ]
     },
     "execution_count": 70,
     "metadata": {},
     "output_type": "execute_result"
    }
   ],
   "source": [
    "# Chargement des données\n",
    "df = pd.read_csv('data.csv', encoding='ISO-8859-1')\n",
    "\n",
    "# Aperçu\n",
    "df.head()\n",
    "df.info()\n",
    "df.describe()"
   ]
  },
  {
   "cell_type": "code",
   "execution_count": 71,
   "id": "ef318114",
   "metadata": {},
   "outputs": [
    {
     "data": {
      "text/html": [
       "<div>\n",
       "<style scoped>\n",
       "    .dataframe tbody tr th:only-of-type {\n",
       "        vertical-align: middle;\n",
       "    }\n",
       "\n",
       "    .dataframe tbody tr th {\n",
       "        vertical-align: top;\n",
       "    }\n",
       "\n",
       "    .dataframe thead th {\n",
       "        text-align: right;\n",
       "    }\n",
       "</style>\n",
       "<table border=\"1\" class=\"dataframe\">\n",
       "  <thead>\n",
       "    <tr style=\"text-align: right;\">\n",
       "      <th></th>\n",
       "      <th>InvoiceNo</th>\n",
       "      <th>StockCode</th>\n",
       "      <th>Description</th>\n",
       "      <th>Quantity</th>\n",
       "      <th>InvoiceDate</th>\n",
       "      <th>UnitPrice</th>\n",
       "      <th>CustomerID</th>\n",
       "      <th>Country</th>\n",
       "    </tr>\n",
       "  </thead>\n",
       "  <tbody>\n",
       "    <tr>\n",
       "      <th>0</th>\n",
       "      <td>536365</td>\n",
       "      <td>85123A</td>\n",
       "      <td>WHITE HANGING HEART T-LIGHT HOLDER</td>\n",
       "      <td>6</td>\n",
       "      <td>12/1/2010 8:26</td>\n",
       "      <td>2.55</td>\n",
       "      <td>17850.0</td>\n",
       "      <td>United Kingdom</td>\n",
       "    </tr>\n",
       "    <tr>\n",
       "      <th>1</th>\n",
       "      <td>536365</td>\n",
       "      <td>71053</td>\n",
       "      <td>WHITE METAL LANTERN</td>\n",
       "      <td>6</td>\n",
       "      <td>12/1/2010 8:26</td>\n",
       "      <td>3.39</td>\n",
       "      <td>17850.0</td>\n",
       "      <td>United Kingdom</td>\n",
       "    </tr>\n",
       "    <tr>\n",
       "      <th>2</th>\n",
       "      <td>536365</td>\n",
       "      <td>84406B</td>\n",
       "      <td>CREAM CUPID HEARTS COAT HANGER</td>\n",
       "      <td>8</td>\n",
       "      <td>12/1/2010 8:26</td>\n",
       "      <td>2.75</td>\n",
       "      <td>17850.0</td>\n",
       "      <td>United Kingdom</td>\n",
       "    </tr>\n",
       "    <tr>\n",
       "      <th>3</th>\n",
       "      <td>536365</td>\n",
       "      <td>84029G</td>\n",
       "      <td>KNITTED UNION FLAG HOT WATER BOTTLE</td>\n",
       "      <td>6</td>\n",
       "      <td>12/1/2010 8:26</td>\n",
       "      <td>3.39</td>\n",
       "      <td>17850.0</td>\n",
       "      <td>United Kingdom</td>\n",
       "    </tr>\n",
       "    <tr>\n",
       "      <th>4</th>\n",
       "      <td>536365</td>\n",
       "      <td>84029E</td>\n",
       "      <td>RED WOOLLY HOTTIE WHITE HEART.</td>\n",
       "      <td>6</td>\n",
       "      <td>12/1/2010 8:26</td>\n",
       "      <td>3.39</td>\n",
       "      <td>17850.0</td>\n",
       "      <td>United Kingdom</td>\n",
       "    </tr>\n",
       "  </tbody>\n",
       "</table>\n",
       "</div>"
      ],
      "text/plain": [
       "  InvoiceNo StockCode                          Description  Quantity  \\\n",
       "0    536365    85123A   WHITE HANGING HEART T-LIGHT HOLDER         6   \n",
       "1    536365     71053                  WHITE METAL LANTERN         6   \n",
       "2    536365    84406B       CREAM CUPID HEARTS COAT HANGER         8   \n",
       "3    536365    84029G  KNITTED UNION FLAG HOT WATER BOTTLE         6   \n",
       "4    536365    84029E       RED WOOLLY HOTTIE WHITE HEART.         6   \n",
       "\n",
       "      InvoiceDate  UnitPrice  CustomerID         Country  \n",
       "0  12/1/2010 8:26       2.55     17850.0  United Kingdom  \n",
       "1  12/1/2010 8:26       3.39     17850.0  United Kingdom  \n",
       "2  12/1/2010 8:26       2.75     17850.0  United Kingdom  \n",
       "3  12/1/2010 8:26       3.39     17850.0  United Kingdom  \n",
       "4  12/1/2010 8:26       3.39     17850.0  United Kingdom  "
      ]
     },
     "execution_count": 71,
     "metadata": {},
     "output_type": "execute_result"
    }
   ],
   "source": [
    "df.head()"
   ]
  },
  {
   "cell_type": "markdown",
   "id": "74d17403",
   "metadata": {},
   "source": [
    "2. Préparation des données"
   ]
  },
  {
   "cell_type": "markdown",
   "id": "740e495b",
   "metadata": {},
   "source": [
    "2.1.  Analyse exploratoire des données"
   ]
  },
  {
   "cell_type": "code",
   "execution_count": 72,
   "id": "cba280ee",
   "metadata": {},
   "outputs": [
    {
     "data": {
      "text/plain": [
       "InvoiceNo       object\n",
       "StockCode       object\n",
       "Description     object\n",
       "Quantity         int64\n",
       "InvoiceDate     object\n",
       "UnitPrice      float64\n",
       "CustomerID     float64\n",
       "Country         object\n",
       "dtype: object"
      ]
     },
     "execution_count": 72,
     "metadata": {},
     "output_type": "execute_result"
    }
   ],
   "source": [
    "#Structure et dimensions\n",
    "df.shape\n",
    "df.dtypes"
   ]
  },
  {
   "cell_type": "code",
   "execution_count": 73,
   "id": "aca96549",
   "metadata": {},
   "outputs": [
    {
     "data": {
      "text/plain": [
       "(541909, 8)"
      ]
     },
     "execution_count": 73,
     "metadata": {},
     "output_type": "execute_result"
    }
   ],
   "source": [
    "df.shape"
   ]
  },
  {
   "cell_type": "code",
   "execution_count": 74,
   "id": "08d635a0",
   "metadata": {},
   "outputs": [
    {
     "data": {
      "text/plain": [
       "Country\n",
       "United Kingdom          495478\n",
       "Germany                   9495\n",
       "France                    8557\n",
       "EIRE                      8196\n",
       "Spain                     2533\n",
       "Netherlands               2371\n",
       "Belgium                   2069\n",
       "Switzerland               2002\n",
       "Portugal                  1519\n",
       "Australia                 1259\n",
       "Norway                    1086\n",
       "Italy                      803\n",
       "Channel Islands            758\n",
       "Finland                    695\n",
       "Cyprus                     622\n",
       "Sweden                     462\n",
       "Unspecified                446\n",
       "Austria                    401\n",
       "Denmark                    389\n",
       "Japan                      358\n",
       "Poland                     341\n",
       "Israel                     297\n",
       "USA                        291\n",
       "Hong Kong                  288\n",
       "Singapore                  229\n",
       "Iceland                    182\n",
       "Canada                     151\n",
       "Greece                     146\n",
       "Malta                      127\n",
       "United Arab Emirates        68\n",
       "European Community          61\n",
       "RSA                         58\n",
       "Lebanon                     45\n",
       "Lithuania                   35\n",
       "Brazil                      32\n",
       "Czech Republic              30\n",
       "Bahrain                     19\n",
       "Saudi Arabia                10\n",
       "Name: count, dtype: int64"
      ]
     },
     "execution_count": 74,
     "metadata": {},
     "output_type": "execute_result"
    }
   ],
   "source": [
    "#Statistiques descriptives\n",
    "df.describe()\n",
    "df['Country'].value_counts()"
   ]
  },
  {
   "cell_type": "markdown",
   "id": "bb278893",
   "metadata": {},
   "source": [
    "2.2. Nettoyage des données "
   ]
  },
  {
   "cell_type": "markdown",
   "id": "c291b5be",
   "metadata": {},
   "source": [
    "a. Valeurs manquantes"
   ]
  },
  {
   "cell_type": "code",
   "execution_count": 75,
   "id": "3ed456e8",
   "metadata": {},
   "outputs": [
    {
     "name": "stdout",
     "output_type": "stream",
     "text": [
      "✅ Oui, il y a des valeurs manquantes.\n",
      "➡️ La colonne qui contient le plus de données manquantes est : 'CustomerID', avec 135080 valeurs manquantes.\n",
      "\n",
      "📋 Détail des colonnes avec des valeurs manquantes :\n",
      "Description      1454\n",
      "CustomerID     135080\n",
      "dtype: int64\n"
     ]
    }
   ],
   "source": [
    "#Calcul du nombre de valeurs manquantes par colonne\n",
    "missing_values = df.isnull().sum()\n",
    "\n",
    "#Vérification s'il y a au moins une valeur manquante\n",
    "if missing_values.any():\n",
    "    # Colonne avec le plus de valeurs manquantes\n",
    "    col_with_max_missing = missing_values.idxmax()\n",
    "    num_missing = missing_values.max()\n",
    "    \n",
    "    print(f\"✅ Oui, il y a des valeurs manquantes.\")\n",
    "    print(f\"➡️ La colonne qui contient le plus de données manquantes est : '{col_with_max_missing}', avec {num_missing} valeurs manquantes.\")\n",
    "    print(\"\\n📋 Détail des colonnes avec des valeurs manquantes :\")\n",
    "    print(missing_values[missing_values > 0])\n",
    "else:\n",
    "    print(\"✅ Non, il n'y a pas de valeurs manquantes dans le dataset.\")"
   ]
  },
  {
   "cell_type": "markdown",
   "id": "6ce49a1b",
   "metadata": {},
   "source": [
    "Traitement des valeurs manquantes\n",
    "\n",
    "Lors de l’analyse des valeurs manquantes dans le dataset, nous avons constaté que seule la colonne CustomerID contenait des valeurs nulles (environ 135 000 sur 540 000 lignes). Cette colonne représente l’identifiant du client, essentiel dans le cadre d’une analyse de comportement client (segmentation, fidélité, etc.).\n",
    "\n",
    "Nous avons choisi de supprimer les lignes contenant des valeurs manquantes dans CustomerID, car :\n",
    "\n",
    "- Leur imputation n'est pas pertinente (il s'agit d’identifiants uniques, pas de valeurs numériques ou catégorielles classiques).\n",
    "\n",
    "- Elles empêcheraient toute analyse centrée sur les clients.\n",
    "\n",
    "- Elles ne représentent qu’environ 25 % du dataset total, donc leur suppression n’impacte pas significativement la représentativité globale.\n",
    "\n",
    "En revanche, pour une analyse produit ou logistique, ces lignes auraient pu être conservées. Le choix dépend donc du cas d’usage spécifique."
   ]
  },
  {
   "cell_type": "code",
   "execution_count": 9,
   "id": "4a0d098f",
   "metadata": {},
   "outputs": [],
   "source": [
    "# Supprimer les lignes où CustomerID est manquant (NaN)\n",
    "#df = df.dropna(subset=['CustomerID'])"
   ]
  },
  {
   "cell_type": "code",
   "execution_count": null,
   "id": "76ac065c",
   "metadata": {},
   "outputs": [],
   "source": [
    "#Nettoyage global\n",
    "#df.dropna(subset=[\"InvoiceNo\", \"StockCode\", \"Description\"], inplace=True)"
   ]
  },
  {
   "cell_type": "markdown",
   "id": "9956b192",
   "metadata": {},
   "source": [
    "b. Doublons"
   ]
  },
  {
   "cell_type": "code",
   "execution_count": 77,
   "id": "5ecdfd9a",
   "metadata": {},
   "outputs": [
    {
     "name": "stdout",
     "output_type": "stream",
     "text": [
      "Nombre de lignes dupliquées : 5268\n",
      "✅ Les doublons ont été supprimés.\n"
     ]
    }
   ],
   "source": [
    "# Nombre de doublons exacts\n",
    "nb_doublons = df.duplicated().sum()\n",
    "print(f\"Nombre de lignes dupliquées : {nb_doublons}\")\n",
    "\n",
    "#Suppression des doublons\n",
    "df = df.drop_duplicates()\n",
    "print(\"✅ Les doublons ont été supprimés.\")\n"
   ]
  },
  {
   "cell_type": "code",
   "execution_count": 78,
   "id": "994e4a70",
   "metadata": {},
   "outputs": [
    {
     "data": {
      "text/plain": [
       "(535187, 8)"
      ]
     },
     "execution_count": 78,
     "metadata": {},
     "output_type": "execute_result"
    }
   ],
   "source": [
    "df.shape"
   ]
  },
  {
   "cell_type": "markdown",
   "id": "f53c95ca",
   "metadata": {},
   "source": [
    "Traitement des doublons\n",
    "\n",
    "Une vérification des doublons a révélé la présence de lignes strictement identiques. Celles-ci ont été supprimées afin d’éviter une sur-représentation artificielle de certaines transactions, ce qui pourrait fausser les statistiques de vente ou de comportement client. La suppression de ces doublons garantit l'intégrité des analyses futures."
   ]
  },
  {
   "cell_type": "markdown",
   "id": "7b4ce991",
   "metadata": {},
   "source": [
    "c. Incohérences\n",
    "\n",
    "- Valeurs négatives:\n",
    "\n",
    "Quantity et UnitPrice doivent être positifs. Les valeurs négatives indiquent souvent des retours ou erreurs."
   ]
  },
  {
   "cell_type": "code",
   "execution_count": 79,
   "id": "9f93a07d",
   "metadata": {},
   "outputs": [],
   "source": [
    "df = df[(df['Quantity'] > 0) & (df['UnitPrice'] > 0)]"
   ]
  },
  {
   "cell_type": "markdown",
   "id": "1f58ac1f",
   "metadata": {},
   "source": [
    "- Transformation des types de colonnes"
   ]
  },
  {
   "cell_type": "code",
   "execution_count": 81,
   "id": "6db6947b",
   "metadata": {},
   "outputs": [
    {
     "name": "stdout",
     "output_type": "stream",
     "text": [
      "datetime64[ns]\n"
     ]
    }
   ],
   "source": [
    "#Vérification et conversion du type de la colonne\n",
    "df['InvoiceDate'] = pd.to_datetime(df['InvoiceDate'])\n",
    "\n",
    "# Vérification après conversion\n",
    "print(df['InvoiceDate'].dtype)\n",
    "\n",
    "# Convertir InvoiceNo en string \n",
    "\n",
    "df['InvoiceNo'] = df['InvoiceNo'].astype(str)\n"
   ]
  },
  {
   "cell_type": "markdown",
   "id": "924c7997",
   "metadata": {},
   "source": [
    "Transformation des types de colonnes\n",
    "\n",
    "- InvoiceDate a été convertie au format datetime, afin de permettre des analyses temporelles précises (extraction de la date, du mois, de l'heure, etc.).\n",
    "\n",
    "- CustomerID était au format float64, ce qui n'est pas cohérent pour un identifiant. Après suppression des valeurs manquantes, il a été converti en chaîne de caractères (str) pour éviter toute confusion avec des valeurs numériques.\n",
    "\n",
    "- InvoiceNo a été converti en str par sécurité, car certaines valeurs contiennent des lettres (ex. : les retours commencent par 'C')."
   ]
  },
  {
   "cell_type": "markdown",
   "id": "e95c73b1",
   "metadata": {},
   "source": [
    "2.3 Justification des transformations :\n",
    "\n",
    "- Les valeurs manquantes dans CustomerID ont été supprimées, car cet identifiant est crucial pour les analyses client, et l’imputation n’est pas pertinente pour un champ de type ID.\n",
    "- Les doublons exacts ont été supprimés afin de ne pas biaiser les statistiques de vente.\n",
    "- Les transactions avec des Quantity ou UnitPrice négatifs ont été exclues, car elles représentent des retours ou des erreurs de saisie, et ne sont pas pertinentes dans une analyse des ventes.\n",
    "- Le champ InvoiceDate a été converti au format datetime pour permettre une analyse temporelle ultérieure.\n"
   ]
  },
  {
   "cell_type": "markdown",
   "id": "7d72a601",
   "metadata": {},
   "source": [
    "3. Création de nouvelles variables pertinentes\n",
    "\n",
    "6 variables pertinentes avec leurs objectifs"
   ]
  },
  {
   "cell_type": "code",
   "execution_count": 82,
   "id": "13f38c39",
   "metadata": {},
   "outputs": [],
   "source": [
    "# 1. Créer la variable TotalPrice (objectif : calcul du chiffre d'affaires et panier moyen)\n",
    "df['TotalPrice'] = df['Quantity'] * df['UnitPrice']"
   ]
  },
  {
   "cell_type": "code",
   "execution_count": 83,
   "id": "ac56d71b",
   "metadata": {},
   "outputs": [],
   "source": [
    "# 2. Créer la variable IsCancelled (objectif : analyser les retours et qualité de service)\n",
    "df['IsCancelled'] = df['InvoiceNo'].astype(str).str.startswith('C')"
   ]
  },
  {
   "cell_type": "code",
   "execution_count": 84,
   "id": "5144dae8",
   "metadata": {},
   "outputs": [],
   "source": [
    "# 3. Extraire l’heure de la commande (objectif : analyser les pics d'activité/Compréhension des moments d’achat)\n",
    "df['InvoiceHour'] = df['InvoiceDate'].dt.hour"
   ]
  },
  {
   "cell_type": "code",
   "execution_count": 85,
   "id": "45ee9c58",
   "metadata": {},
   "outputs": [],
   "source": [
    "#4 InvoiceTotalItems (Utilité : Évaluation du panier moyen par commande)\n",
    "invoice_total_items = df.groupby('InvoiceNo')['Quantity'].sum().reset_index()\n",
    "invoice_total_items.rename(columns={'Quantity': 'InvoiceTotalItems'}, inplace=True)\n",
    "df = df.merge(invoice_total_items, on='InvoiceNo', how='left')"
   ]
  },
  {
   "cell_type": "code",
   "execution_count": 86,
   "id": "4c1b3452",
   "metadata": {},
   "outputs": [
    {
     "data": {
      "text/plain": [
       "(524878, 12)"
      ]
     },
     "execution_count": 86,
     "metadata": {},
     "output_type": "execute_result"
    }
   ],
   "source": [
    "df.shape"
   ]
  },
  {
   "cell_type": "code",
   "execution_count": 87,
   "id": "9f0df24a",
   "metadata": {},
   "outputs": [],
   "source": [
    "# Maintenant qu'on a un dataset propre, on sépare :\n",
    "df_products = df.copy()  # contient aussi les lignes sans client\n",
    "df_clients = df.dropna(subset=['CustomerID']).copy()\n",
    "df_clients['CustomerID'] = df_clients['CustomerID'].astype(int)\n",
    "\n",
    "\n",
    "\n",
    "# 5. Variables spécifiques aux clients:\n",
    "    #CustomerTotalSpent (Utilité : Identification des meilleurs clients)\n",
    "customer_spending = df_clients.groupby('CustomerID')['TotalPrice'].sum().reset_index(name='CustomerTotalSpent')\n",
    "df_clients = df_clients.merge(customer_spending, on='CustomerID', how='left')\n",
    "\n",
    "    #CustomerNumOrders  (Utilité : Mesure de la fidélité ou fréquence d’achat)\n",
    "\n",
    "customer_orders = df_clients[['CustomerID', 'InvoiceNo']].drop_duplicates()\n",
    "customer_order_counts = customer_orders.groupby('CustomerID')['InvoiceNo'].count().reset_index(name='CustomerNumOrders')\n",
    "df_clients = df_clients.merge(customer_order_counts, on='CustomerID', how='left')"
   ]
  },
  {
   "cell_type": "markdown",
   "id": "8be4df62",
   "metadata": {},
   "source": [
    " *fichier CSV du jeu de données final, nettoyé*\n",
    " on a separé le dataset en deux fichiers pour l'adapter aux analyses et à notre objectif de projet:\n",
    " - df_clients : Les valeurs manquantes dans CustomerID ont été supprimées, car cet identifiant est crucial pour les analyses client\n",
    " - dfproducts: contient aussi les lignes sans client"
   ]
  },
  {
   "cell_type": "code",
   "execution_count": 90,
   "id": "39e98044",
   "metadata": {},
   "outputs": [
    {
     "name": "stdout",
     "output_type": "stream",
     "text": [
      "les colonnes de df_products:Index(['InvoiceNo', 'StockCode', 'Description', 'Quantity', 'InvoiceDate',\n",
      "       'UnitPrice', 'CustomerID', 'Country', 'TotalPrice', 'IsCancelled',\n",
      "       'InvoiceHour', 'InvoiceTotalItems'],\n",
      "      dtype='object')\n",
      "les dimensions de df_products :(524878, 12)\n",
      "les colonnes de df_clients: Index(['InvoiceNo', 'StockCode', 'Description', 'Quantity', 'InvoiceDate',\n",
      "       'UnitPrice', 'CustomerID', 'Country', 'TotalPrice', 'IsCancelled',\n",
      "       'InvoiceHour', 'InvoiceTotalItems', 'CustomerTotalSpent',\n",
      "       'CustomerNumOrders'],\n",
      "      dtype='object')\n",
      "les dimensions de df_clients : (392692, 14)\n"
     ]
    }
   ],
   "source": [
    "print(f'les colonnes de df_products:{df_products.columns}')\n",
    "print(f'les dimensions de df_products :{df_products.shape}')\n",
    "\n",
    "print(f'les colonnes de df_clients: {df_clients.columns}')\n",
    "print(f'les dimensions de df_clients : {df_clients.shape}')\n",
    "\n"
   ]
  },
  {
   "cell_type": "code",
   "execution_count": 91,
   "id": "835d3385",
   "metadata": {},
   "outputs": [
    {
     "name": "stdout",
     "output_type": "stream",
     "text": [
      "Taille de df avant toute transformation : (524878, 12)\n"
     ]
    }
   ],
   "source": [
    "print(\"Taille de df avant toute transformation :\", df.shape)"
   ]
  },
  {
   "cell_type": "markdown",
   "id": "2ac70091",
   "metadata": {},
   "source": [
    "4. Visualisation des tendances :"
   ]
  },
  {
   "cell_type": "code",
   "execution_count": null,
   "id": "3306b6bc",
   "metadata": {},
   "outputs": [],
   "source": []
  }
 ],
 "metadata": {
  "kernelspec": {
   "display_name": "venv",
   "language": "python",
   "name": "python3"
  },
  "language_info": {
   "codemirror_mode": {
    "name": "ipython",
    "version": 3
   },
   "file_extension": ".py",
   "mimetype": "text/x-python",
   "name": "python",
   "nbconvert_exporter": "python",
   "pygments_lexer": "ipython3",
   "version": "3.12.10"
  }
 },
 "nbformat": 4,
 "nbformat_minor": 5
}
